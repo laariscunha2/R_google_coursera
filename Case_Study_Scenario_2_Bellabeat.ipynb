{
  "nbformat": 4,
  "nbformat_minor": 0,
  "metadata": {
    "colab": {
      "provenance": []
    },
    "kernelspec": {
      "name": "ir",
      "display_name": "R"
    },
    "language_info": {
      "name": "R"
    }
  },
  "cells": [
    {
      "cell_type": "markdown",
      "source": [
        "# Case Study 2: How Can a Wellness Technology Company Play It Smart?"
      ],
      "metadata": {
        "id": "cK686kN0eQ74"
      }
    },
    {
      "cell_type": "markdown",
      "source": [
        "## Scenario\n",
        "You are a junior data analyst working on the marketing analyst team at Bellabeat, a high-tech manufacturer of health-focused products for women. Bellabeat is a successful small company, but they have the potential to become a larger player in the global smart device market. Urška Sršen, cofounder and Chief Creative Officer of Bellabeat, believes that analyzing smart device fitness data could help unlock new growth opportunities for the company. You have been asked to focus on one of Bellabeat’s products and analyze smart device data to gain insight into how consumers are using their smart devices. The insights you discover will then help guide marketing strategy for the company. You will present your analysis to the Bellabeat executive team along with your high-level recommendations for Bellabeat’s marketing strategy."
      ],
      "metadata": {
        "id": "9cVmO35KekbT"
      }
    },
    {
      "cell_type": "markdown",
      "source": [
        "## Ask\n",
        "Sršen asks you to analyze smart device usage data in order to gain insight into how consumers use non-Bellabeat smart devices. She then wants you to select one Bellabeat product to apply these insights to in your presentation. These\n",
        "questions will guide your analysis:\n",
        "1. What are some trends in smart device usage?\n",
        "2. How could these trends apply to Bellabeat customers?\n",
        "3. How could these trends help influence Bellabeat marketing strategy?\n",
        "You will produce a report with the following deliverables:\n",
        "1. A clear summary of the business task\n",
        "2. A description of all data sources used\n",
        "3. Documentation of any cleaning or manipulation of data\n",
        "4. A summary of your analysis\n",
        "5. Supporting visualizations and key findings\n",
        "6. Your top high-level content recommendations based on your analysis"
      ],
      "metadata": {
        "id": "DgAD7DOafm2d"
      }
    },
    {
      "cell_type": "markdown",
      "source": [
        "## Prepare\n",
        "Sršen encourages you to use public data that explores smart device users’ daily habits. She points you to a specific data set: ● FitBit Fitness Tracker Data (CC0: Public Domain, dataset made available through Mobius): This Kaggle data set contains personal fitness tracker from thirty fitbit users. Thirty eligible Fitbit users consented to the submission of personal tracker data, including minute-level output for physical activity, heart rate, and sleep monitoring. It includes information about daily activity, steps, and heart rate that can be used to explore users’ habits. Sršen tells you that this data set might\n",
        "have some limitations, and encourages you to consider adding another data to help address those limitations as you begin to work more with this data."
      ],
      "metadata": {
        "id": "5IVSw_Mtf9m3"
      }
    },
    {
      "cell_type": "markdown",
      "source": [
        "## Process\n",
        "Case Study Roadmap - Process\n",
        "Guiding questions\n",
        "● What tools are you choosing and why?\n",
        "● Have you ensured your data’s integrity?\n",
        "● What steps have you taken to ensure that your data is clean?\n",
        "● How can you verify that your data is clean and ready to analyze?\n",
        "● Have you documented your cleaning process so you can review and share those results?\n",
        "Key tasks\n",
        "1. Check the data for errors.\n",
        "2. Choose your tools.\n",
        "3. Transform the data so you can work with it effectively.\n",
        "4. Document the cleaning process.\n",
        "Deliverable\n",
        "Documentation of any cleaning or manipulation of data"
      ],
      "metadata": {
        "id": "X9VJpkypkm9I"
      }
    },
    {
      "cell_type": "markdown",
      "source": [
        "## Analyze\n",
        "Now that your data is stored appropriately and has been prepared for analysis, start putting it to work."
      ],
      "metadata": {
        "id": "aHVtLNwEmBYs"
      }
    },
    {
      "cell_type": "markdown",
      "source": [
        "## **STEP 1:** installing packages:"
      ],
      "metadata": {
        "id": "yawqrzNdm9sc"
      }
    },
    {
      "cell_type": "code",
      "execution_count": 4,
      "metadata": {
        "colab": {
          "base_uri": "https://localhost:8080/"
        },
        "id": "yD7_lUVsdjv5",
        "outputId": "6346ed6c-e122-42df-b932-769da1de9eb1"
      },
      "outputs": [
        {
          "output_type": "stream",
          "name": "stderr",
          "text": [
            "Installing package into ‘/usr/local/lib/R/site-library’\n",
            "(as ‘lib’ is unspecified)\n",
            "\n",
            "Installing package into ‘/usr/local/lib/R/site-library’\n",
            "(as ‘lib’ is unspecified)\n",
            "\n",
            "Installing package into ‘/usr/local/lib/R/site-library’\n",
            "(as ‘lib’ is unspecified)\n",
            "\n",
            "Installing package into ‘/usr/local/lib/R/site-library’\n",
            "(as ‘lib’ is unspecified)\n",
            "\n",
            "Installing package into ‘/usr/local/lib/R/site-library’\n",
            "(as ‘lib’ is unspecified)\n",
            "\n",
            "── \u001b[1mAttaching core tidyverse packages\u001b[22m ──────────────────────── tidyverse 2.0.0 ──\n",
            "\u001b[32m✔\u001b[39m \u001b[34mdplyr    \u001b[39m 1.1.2     \u001b[32m✔\u001b[39m \u001b[34mreadr    \u001b[39m 2.1.4\n",
            "\u001b[32m✔\u001b[39m \u001b[34mforcats  \u001b[39m 1.0.0     \u001b[32m✔\u001b[39m \u001b[34mstringr  \u001b[39m 1.5.0\n",
            "\u001b[32m✔\u001b[39m \u001b[34mggplot2  \u001b[39m 3.4.3     \u001b[32m✔\u001b[39m \u001b[34mtibble   \u001b[39m 3.2.1\n",
            "\u001b[32m✔\u001b[39m \u001b[34mlubridate\u001b[39m 1.9.2     \u001b[32m✔\u001b[39m \u001b[34mtidyr    \u001b[39m 1.3.0\n",
            "\u001b[32m✔\u001b[39m \u001b[34mpurrr    \u001b[39m 1.0.1     \n",
            "── \u001b[1mConflicts\u001b[22m ────────────────────────────────────────── tidyverse_conflicts() ──\n",
            "\u001b[31m✖\u001b[39m \u001b[34mdplyr\u001b[39m::\u001b[32mfilter()\u001b[39m masks \u001b[34mstats\u001b[39m::filter()\n",
            "\u001b[31m✖\u001b[39m \u001b[34mdplyr\u001b[39m::\u001b[32mlag()\u001b[39m    masks \u001b[34mstats\u001b[39m::lag()\n",
            "\u001b[36mℹ\u001b[39m Use the conflicted package (\u001b[3m\u001b[34m<http://conflicted.r-lib.org/>\u001b[39m\u001b[23m) to force all conflicts to become errors\n",
            "------------------------------------------------------------------------------\n",
            "\n",
            "You have loaded plyr after dplyr - this is likely to cause problems.\n",
            "If you need functions from both plyr and dplyr, please load plyr first, then dplyr:\n",
            "library(plyr); library(dplyr)\n",
            "\n",
            "------------------------------------------------------------------------------\n",
            "\n",
            "\n",
            "Attaching package: ‘plyr’\n",
            "\n",
            "\n",
            "The following objects are masked from ‘package:dplyr’:\n",
            "\n",
            "    arrange, count, desc, failwith, id, mutate, rename, summarise,\n",
            "    summarize\n",
            "\n",
            "\n",
            "The following object is masked from ‘package:purrr’:\n",
            "\n",
            "    compact\n",
            "\n",
            "\n",
            "\n",
            "Attaching package: ‘janitor’\n",
            "\n",
            "\n",
            "The following objects are masked from ‘package:stats’:\n",
            "\n",
            "    chisq.test, fisher.test\n",
            "\n",
            "\n"
          ]
        }
      ],
      "source": [
        "install.packages(\"tidyverse\")\n",
        "install.packages(\"ggplot2\")\n",
        "install.packages(\"plyr\")\n",
        "install.packages(\"janitor\")\n",
        "install.packages(\"dplyr\")\n",
        "\n",
        "# library that is going to be needed:\n",
        "library(tidyverse)\n",
        "library(ggplot2)\n",
        "library(readr)\n",
        "library(plyr)\n",
        "library(janitor)\n",
        "library(lubridate)\n",
        "library(dplyr)"
      ]
    },
    {
      "cell_type": "markdown",
      "source": [
        "## **STEP 2:** collecting data\n",
        "\n",
        "\n"
      ],
      "metadata": {
        "id": "tfYWDURGqYwq"
      }
    },
    {
      "cell_type": "code",
      "source": [
        "#creating data frame with sleep data\n",
        "sleep_data <- read.csv(\"/content/sleepDay_merged.csv\")\n",
        "head(sleep_data)\n",
        "\n",
        "#creating data frame with acitivity data\n",
        "daily_activity <- read.csv(\"/content/dailyActivity_merged.csv\")\n",
        "head(daily_activity)\n",
        "\n",
        "#creating data frame with hourly calories\n",
        "hour_calories <- read.csv(\"/content/hourlyCalories_merged.csv\")\n",
        "head(hour_calories)"
      ],
      "metadata": {
        "id": "eNxJBkTOBdCn",
        "colab": {
          "base_uri": "https://localhost:8080/",
          "height": 845
        },
        "outputId": "51065ae7-f0b8-45cf-d80c-5b916212e9f6"
      },
      "execution_count": 5,
      "outputs": [
        {
          "output_type": "display_data",
          "data": {
            "text/html": [
              "<table class=\"dataframe\">\n",
              "<caption>A data.frame: 6 × 5</caption>\n",
              "<thead>\n",
              "\t<tr><th></th><th scope=col>Id</th><th scope=col>SleepDay</th><th scope=col>TotalSleepRecords</th><th scope=col>TotalMinutesAsleep</th><th scope=col>TotalTimeInBed</th></tr>\n",
              "\t<tr><th></th><th scope=col>&lt;dbl&gt;</th><th scope=col>&lt;chr&gt;</th><th scope=col>&lt;int&gt;</th><th scope=col>&lt;int&gt;</th><th scope=col>&lt;int&gt;</th></tr>\n",
              "</thead>\n",
              "<tbody>\n",
              "\t<tr><th scope=row>1</th><td>1503960366</td><td>4/12/2016 12:00:00 AM</td><td>1</td><td>327</td><td>346</td></tr>\n",
              "\t<tr><th scope=row>2</th><td>1503960366</td><td>4/13/2016 12:00:00 AM</td><td>2</td><td>384</td><td>407</td></tr>\n",
              "\t<tr><th scope=row>3</th><td>1503960366</td><td>4/15/2016 12:00:00 AM</td><td>1</td><td>412</td><td>442</td></tr>\n",
              "\t<tr><th scope=row>4</th><td>1503960366</td><td>4/16/2016 12:00:00 AM</td><td>2</td><td>340</td><td>367</td></tr>\n",
              "\t<tr><th scope=row>5</th><td>1503960366</td><td>4/17/2016 12:00:00 AM</td><td>1</td><td>700</td><td>712</td></tr>\n",
              "\t<tr><th scope=row>6</th><td>1503960366</td><td>4/19/2016 12:00:00 AM</td><td>1</td><td>304</td><td>320</td></tr>\n",
              "</tbody>\n",
              "</table>\n"
            ],
            "text/markdown": "\nA data.frame: 6 × 5\n\n| <!--/--> | Id &lt;dbl&gt; | SleepDay &lt;chr&gt; | TotalSleepRecords &lt;int&gt; | TotalMinutesAsleep &lt;int&gt; | TotalTimeInBed &lt;int&gt; |\n|---|---|---|---|---|---|\n| 1 | 1503960366 | 4/12/2016 12:00:00 AM | 1 | 327 | 346 |\n| 2 | 1503960366 | 4/13/2016 12:00:00 AM | 2 | 384 | 407 |\n| 3 | 1503960366 | 4/15/2016 12:00:00 AM | 1 | 412 | 442 |\n| 4 | 1503960366 | 4/16/2016 12:00:00 AM | 2 | 340 | 367 |\n| 5 | 1503960366 | 4/17/2016 12:00:00 AM | 1 | 700 | 712 |\n| 6 | 1503960366 | 4/19/2016 12:00:00 AM | 1 | 304 | 320 |\n\n",
            "text/latex": "A data.frame: 6 × 5\n\\begin{tabular}{r|lllll}\n  & Id & SleepDay & TotalSleepRecords & TotalMinutesAsleep & TotalTimeInBed\\\\\n  & <dbl> & <chr> & <int> & <int> & <int>\\\\\n\\hline\n\t1 & 1503960366 & 4/12/2016 12:00:00 AM & 1 & 327 & 346\\\\\n\t2 & 1503960366 & 4/13/2016 12:00:00 AM & 2 & 384 & 407\\\\\n\t3 & 1503960366 & 4/15/2016 12:00:00 AM & 1 & 412 & 442\\\\\n\t4 & 1503960366 & 4/16/2016 12:00:00 AM & 2 & 340 & 367\\\\\n\t5 & 1503960366 & 4/17/2016 12:00:00 AM & 1 & 700 & 712\\\\\n\t6 & 1503960366 & 4/19/2016 12:00:00 AM & 1 & 304 & 320\\\\\n\\end{tabular}\n",
            "text/plain": [
              "  Id         SleepDay              TotalSleepRecords TotalMinutesAsleep\n",
              "1 1503960366 4/12/2016 12:00:00 AM 1                 327               \n",
              "2 1503960366 4/13/2016 12:00:00 AM 2                 384               \n",
              "3 1503960366 4/15/2016 12:00:00 AM 1                 412               \n",
              "4 1503960366 4/16/2016 12:00:00 AM 2                 340               \n",
              "5 1503960366 4/17/2016 12:00:00 AM 1                 700               \n",
              "6 1503960366 4/19/2016 12:00:00 AM 1                 304               \n",
              "  TotalTimeInBed\n",
              "1 346           \n",
              "2 407           \n",
              "3 442           \n",
              "4 367           \n",
              "5 712           \n",
              "6 320           "
            ]
          },
          "metadata": {}
        },
        {
          "output_type": "display_data",
          "data": {
            "text/html": [
              "<table class=\"dataframe\">\n",
              "<caption>A data.frame: 6 × 15</caption>\n",
              "<thead>\n",
              "\t<tr><th></th><th scope=col>Id</th><th scope=col>ActivityDate</th><th scope=col>TotalSteps</th><th scope=col>TotalDistance</th><th scope=col>TrackerDistance</th><th scope=col>LoggedActivitiesDistance</th><th scope=col>VeryActiveDistance</th><th scope=col>ModeratelyActiveDistance</th><th scope=col>LightActiveDistance</th><th scope=col>SedentaryActiveDistance</th><th scope=col>VeryActiveMinutes</th><th scope=col>FairlyActiveMinutes</th><th scope=col>LightlyActiveMinutes</th><th scope=col>SedentaryMinutes</th><th scope=col>Calories</th></tr>\n",
              "\t<tr><th></th><th scope=col>&lt;dbl&gt;</th><th scope=col>&lt;chr&gt;</th><th scope=col>&lt;int&gt;</th><th scope=col>&lt;dbl&gt;</th><th scope=col>&lt;dbl&gt;</th><th scope=col>&lt;dbl&gt;</th><th scope=col>&lt;dbl&gt;</th><th scope=col>&lt;dbl&gt;</th><th scope=col>&lt;dbl&gt;</th><th scope=col>&lt;dbl&gt;</th><th scope=col>&lt;int&gt;</th><th scope=col>&lt;int&gt;</th><th scope=col>&lt;int&gt;</th><th scope=col>&lt;int&gt;</th><th scope=col>&lt;int&gt;</th></tr>\n",
              "</thead>\n",
              "<tbody>\n",
              "\t<tr><th scope=row>1</th><td>1503960366</td><td>4/12/2016</td><td>13162</td><td>8.50</td><td>8.50</td><td>0</td><td>1.88</td><td>0.55</td><td>6.06</td><td>0</td><td>25</td><td>13</td><td>328</td><td> 728</td><td>1985</td></tr>\n",
              "\t<tr><th scope=row>2</th><td>1503960366</td><td>4/13/2016</td><td>10735</td><td>6.97</td><td>6.97</td><td>0</td><td>1.57</td><td>0.69</td><td>4.71</td><td>0</td><td>21</td><td>19</td><td>217</td><td> 776</td><td>1797</td></tr>\n",
              "\t<tr><th scope=row>3</th><td>1503960366</td><td>4/14/2016</td><td>10460</td><td>6.74</td><td>6.74</td><td>0</td><td>2.44</td><td>0.40</td><td>3.91</td><td>0</td><td>30</td><td>11</td><td>181</td><td>1218</td><td>1776</td></tr>\n",
              "\t<tr><th scope=row>4</th><td>1503960366</td><td>4/15/2016</td><td> 9762</td><td>6.28</td><td>6.28</td><td>0</td><td>2.14</td><td>1.26</td><td>2.83</td><td>0</td><td>29</td><td>34</td><td>209</td><td> 726</td><td>1745</td></tr>\n",
              "\t<tr><th scope=row>5</th><td>1503960366</td><td>4/16/2016</td><td>12669</td><td>8.16</td><td>8.16</td><td>0</td><td>2.71</td><td>0.41</td><td>5.04</td><td>0</td><td>36</td><td>10</td><td>221</td><td> 773</td><td>1863</td></tr>\n",
              "\t<tr><th scope=row>6</th><td>1503960366</td><td>4/17/2016</td><td> 9705</td><td>6.48</td><td>6.48</td><td>0</td><td>3.19</td><td>0.78</td><td>2.51</td><td>0</td><td>38</td><td>20</td><td>164</td><td> 539</td><td>1728</td></tr>\n",
              "</tbody>\n",
              "</table>\n"
            ],
            "text/markdown": "\nA data.frame: 6 × 15\n\n| <!--/--> | Id &lt;dbl&gt; | ActivityDate &lt;chr&gt; | TotalSteps &lt;int&gt; | TotalDistance &lt;dbl&gt; | TrackerDistance &lt;dbl&gt; | LoggedActivitiesDistance &lt;dbl&gt; | VeryActiveDistance &lt;dbl&gt; | ModeratelyActiveDistance &lt;dbl&gt; | LightActiveDistance &lt;dbl&gt; | SedentaryActiveDistance &lt;dbl&gt; | VeryActiveMinutes &lt;int&gt; | FairlyActiveMinutes &lt;int&gt; | LightlyActiveMinutes &lt;int&gt; | SedentaryMinutes &lt;int&gt; | Calories &lt;int&gt; |\n|---|---|---|---|---|---|---|---|---|---|---|---|---|---|---|---|\n| 1 | 1503960366 | 4/12/2016 | 13162 | 8.50 | 8.50 | 0 | 1.88 | 0.55 | 6.06 | 0 | 25 | 13 | 328 |  728 | 1985 |\n| 2 | 1503960366 | 4/13/2016 | 10735 | 6.97 | 6.97 | 0 | 1.57 | 0.69 | 4.71 | 0 | 21 | 19 | 217 |  776 | 1797 |\n| 3 | 1503960366 | 4/14/2016 | 10460 | 6.74 | 6.74 | 0 | 2.44 | 0.40 | 3.91 | 0 | 30 | 11 | 181 | 1218 | 1776 |\n| 4 | 1503960366 | 4/15/2016 |  9762 | 6.28 | 6.28 | 0 | 2.14 | 1.26 | 2.83 | 0 | 29 | 34 | 209 |  726 | 1745 |\n| 5 | 1503960366 | 4/16/2016 | 12669 | 8.16 | 8.16 | 0 | 2.71 | 0.41 | 5.04 | 0 | 36 | 10 | 221 |  773 | 1863 |\n| 6 | 1503960366 | 4/17/2016 |  9705 | 6.48 | 6.48 | 0 | 3.19 | 0.78 | 2.51 | 0 | 38 | 20 | 164 |  539 | 1728 |\n\n",
            "text/latex": "A data.frame: 6 × 15\n\\begin{tabular}{r|lllllllllllllll}\n  & Id & ActivityDate & TotalSteps & TotalDistance & TrackerDistance & LoggedActivitiesDistance & VeryActiveDistance & ModeratelyActiveDistance & LightActiveDistance & SedentaryActiveDistance & VeryActiveMinutes & FairlyActiveMinutes & LightlyActiveMinutes & SedentaryMinutes & Calories\\\\\n  & <dbl> & <chr> & <int> & <dbl> & <dbl> & <dbl> & <dbl> & <dbl> & <dbl> & <dbl> & <int> & <int> & <int> & <int> & <int>\\\\\n\\hline\n\t1 & 1503960366 & 4/12/2016 & 13162 & 8.50 & 8.50 & 0 & 1.88 & 0.55 & 6.06 & 0 & 25 & 13 & 328 &  728 & 1985\\\\\n\t2 & 1503960366 & 4/13/2016 & 10735 & 6.97 & 6.97 & 0 & 1.57 & 0.69 & 4.71 & 0 & 21 & 19 & 217 &  776 & 1797\\\\\n\t3 & 1503960366 & 4/14/2016 & 10460 & 6.74 & 6.74 & 0 & 2.44 & 0.40 & 3.91 & 0 & 30 & 11 & 181 & 1218 & 1776\\\\\n\t4 & 1503960366 & 4/15/2016 &  9762 & 6.28 & 6.28 & 0 & 2.14 & 1.26 & 2.83 & 0 & 29 & 34 & 209 &  726 & 1745\\\\\n\t5 & 1503960366 & 4/16/2016 & 12669 & 8.16 & 8.16 & 0 & 2.71 & 0.41 & 5.04 & 0 & 36 & 10 & 221 &  773 & 1863\\\\\n\t6 & 1503960366 & 4/17/2016 &  9705 & 6.48 & 6.48 & 0 & 3.19 & 0.78 & 2.51 & 0 & 38 & 20 & 164 &  539 & 1728\\\\\n\\end{tabular}\n",
            "text/plain": [
              "  Id         ActivityDate TotalSteps TotalDistance TrackerDistance\n",
              "1 1503960366 4/12/2016    13162      8.50          8.50           \n",
              "2 1503960366 4/13/2016    10735      6.97          6.97           \n",
              "3 1503960366 4/14/2016    10460      6.74          6.74           \n",
              "4 1503960366 4/15/2016     9762      6.28          6.28           \n",
              "5 1503960366 4/16/2016    12669      8.16          8.16           \n",
              "6 1503960366 4/17/2016     9705      6.48          6.48           \n",
              "  LoggedActivitiesDistance VeryActiveDistance ModeratelyActiveDistance\n",
              "1 0                        1.88               0.55                    \n",
              "2 0                        1.57               0.69                    \n",
              "3 0                        2.44               0.40                    \n",
              "4 0                        2.14               1.26                    \n",
              "5 0                        2.71               0.41                    \n",
              "6 0                        3.19               0.78                    \n",
              "  LightActiveDistance SedentaryActiveDistance VeryActiveMinutes\n",
              "1 6.06                0                       25               \n",
              "2 4.71                0                       21               \n",
              "3 3.91                0                       30               \n",
              "4 2.83                0                       29               \n",
              "5 5.04                0                       36               \n",
              "6 2.51                0                       38               \n",
              "  FairlyActiveMinutes LightlyActiveMinutes SedentaryMinutes Calories\n",
              "1 13                  328                   728             1985    \n",
              "2 19                  217                   776             1797    \n",
              "3 11                  181                  1218             1776    \n",
              "4 34                  209                   726             1745    \n",
              "5 10                  221                   773             1863    \n",
              "6 20                  164                   539             1728    "
            ]
          },
          "metadata": {}
        },
        {
          "output_type": "display_data",
          "data": {
            "text/html": [
              "<table class=\"dataframe\">\n",
              "<caption>A data.frame: 6 × 3</caption>\n",
              "<thead>\n",
              "\t<tr><th></th><th scope=col>Id</th><th scope=col>ActivityHour</th><th scope=col>Calories</th></tr>\n",
              "\t<tr><th></th><th scope=col>&lt;dbl&gt;</th><th scope=col>&lt;chr&gt;</th><th scope=col>&lt;int&gt;</th></tr>\n",
              "</thead>\n",
              "<tbody>\n",
              "\t<tr><th scope=row>1</th><td>1503960366</td><td>4/12/2016 12:00:00 AM</td><td>81</td></tr>\n",
              "\t<tr><th scope=row>2</th><td>1503960366</td><td>4/12/2016 1:00:00 AM </td><td>61</td></tr>\n",
              "\t<tr><th scope=row>3</th><td>1503960366</td><td>4/12/2016 2:00:00 AM </td><td>59</td></tr>\n",
              "\t<tr><th scope=row>4</th><td>1503960366</td><td>4/12/2016 3:00:00 AM </td><td>47</td></tr>\n",
              "\t<tr><th scope=row>5</th><td>1503960366</td><td>4/12/2016 4:00:00 AM </td><td>48</td></tr>\n",
              "\t<tr><th scope=row>6</th><td>1503960366</td><td>4/12/2016 5:00:00 AM </td><td>48</td></tr>\n",
              "</tbody>\n",
              "</table>\n"
            ],
            "text/markdown": "\nA data.frame: 6 × 3\n\n| <!--/--> | Id &lt;dbl&gt; | ActivityHour &lt;chr&gt; | Calories &lt;int&gt; |\n|---|---|---|---|\n| 1 | 1503960366 | 4/12/2016 12:00:00 AM | 81 |\n| 2 | 1503960366 | 4/12/2016 1:00:00 AM  | 61 |\n| 3 | 1503960366 | 4/12/2016 2:00:00 AM  | 59 |\n| 4 | 1503960366 | 4/12/2016 3:00:00 AM  | 47 |\n| 5 | 1503960366 | 4/12/2016 4:00:00 AM  | 48 |\n| 6 | 1503960366 | 4/12/2016 5:00:00 AM  | 48 |\n\n",
            "text/latex": "A data.frame: 6 × 3\n\\begin{tabular}{r|lll}\n  & Id & ActivityHour & Calories\\\\\n  & <dbl> & <chr> & <int>\\\\\n\\hline\n\t1 & 1503960366 & 4/12/2016 12:00:00 AM & 81\\\\\n\t2 & 1503960366 & 4/12/2016 1:00:00 AM  & 61\\\\\n\t3 & 1503960366 & 4/12/2016 2:00:00 AM  & 59\\\\\n\t4 & 1503960366 & 4/12/2016 3:00:00 AM  & 47\\\\\n\t5 & 1503960366 & 4/12/2016 4:00:00 AM  & 48\\\\\n\t6 & 1503960366 & 4/12/2016 5:00:00 AM  & 48\\\\\n\\end{tabular}\n",
            "text/plain": [
              "  Id         ActivityHour          Calories\n",
              "1 1503960366 4/12/2016 12:00:00 AM 81      \n",
              "2 1503960366 4/12/2016 1:00:00 AM  61      \n",
              "3 1503960366 4/12/2016 2:00:00 AM  59      \n",
              "4 1503960366 4/12/2016 3:00:00 AM  47      \n",
              "5 1503960366 4/12/2016 4:00:00 AM  48      \n",
              "6 1503960366 4/12/2016 5:00:00 AM  48      "
            ]
          },
          "metadata": {}
        }
      ]
    },
    {
      "cell_type": "markdown",
      "source": [
        "visualizing data"
      ],
      "metadata": {
        "id": "NRcjC9LaCnxM"
      }
    },
    {
      "cell_type": "code",
      "source": [
        "print(\"===>COLUMN NAMES<===\")\n",
        "print(colnames(sleep_data))\n",
        "print(\"==============================\")\n",
        "print(colnames(daily_activity))\n",
        "print(\"==============================\")\n",
        "print(colnames(hour_calories))\n",
        "\n"
      ],
      "metadata": {
        "id": "aNFETrEECkTj",
        "colab": {
          "base_uri": "https://localhost:8080/"
        },
        "outputId": "51c25437-39af-4450-f1d9-7403f04f1067"
      },
      "execution_count": 6,
      "outputs": [
        {
          "output_type": "stream",
          "name": "stdout",
          "text": [
            "[1] \"===>COLUMN NAMES<===\"\n",
            "[1] \"Id\"                 \"SleepDay\"           \"TotalSleepRecords\" \n",
            "[4] \"TotalMinutesAsleep\" \"TotalTimeInBed\"    \n",
            "[1] \"==============================\"\n",
            " [1] \"Id\"                       \"ActivityDate\"            \n",
            " [3] \"TotalSteps\"               \"TotalDistance\"           \n",
            " [5] \"TrackerDistance\"          \"LoggedActivitiesDistance\"\n",
            " [7] \"VeryActiveDistance\"       \"ModeratelyActiveDistance\"\n",
            " [9] \"LightActiveDistance\"      \"SedentaryActiveDistance\" \n",
            "[11] \"VeryActiveMinutes\"        \"FairlyActiveMinutes\"     \n",
            "[13] \"LightlyActiveMinutes\"     \"SedentaryMinutes\"        \n",
            "[15] \"Calories\"                \n",
            "[1] \"==============================\"\n",
            "[1] \"Id\"           \"ActivityHour\" \"Calories\"    \n"
          ]
        }
      ]
    },
    {
      "cell_type": "markdown",
      "source": [
        "## **STEP 3:** Cleaning data\n"
      ],
      "metadata": {
        "id": "qhnBaV7cRVXo"
      }
    },
    {
      "cell_type": "markdown",
      "source": [
        "Checking if there is any NA on the data frames or duplicate"
      ],
      "metadata": {
        "id": "-eN5OzeOGOOi"
      }
    },
    {
      "cell_type": "code",
      "source": [
        "count(is.na(sleep_data)== TRUE)\n",
        "count(is.na(daily_activity) == TRUE)\n",
        "count(is.na(hour_calories) == TRUE)\n",
        "\n",
        "sum(duplicated(sleep_data))\n",
        "sum(duplicated(daily_activity))\n",
        "sum(duplicated(hour_calories))"
      ],
      "metadata": {
        "id": "OYv_jGjTHEGF",
        "colab": {
          "base_uri": "https://localhost:8080/",
          "height": 426
        },
        "outputId": "ead63ae6-2918-45ad-fbc1-0dc8a92fff1b"
      },
      "execution_count": 7,
      "outputs": [
        {
          "output_type": "display_data",
          "data": {
            "text/html": [
              "<table class=\"dataframe\">\n",
              "<caption>A data.frame: 1 × 6</caption>\n",
              "<thead>\n",
              "\t<tr><th scope=col>x.Id</th><th scope=col>x.SleepDay</th><th scope=col>x.TotalSleepRecords</th><th scope=col>x.TotalMinutesAsleep</th><th scope=col>x.TotalTimeInBed</th><th scope=col>freq</th></tr>\n",
              "\t<tr><th scope=col>&lt;lgl&gt;</th><th scope=col>&lt;lgl&gt;</th><th scope=col>&lt;lgl&gt;</th><th scope=col>&lt;lgl&gt;</th><th scope=col>&lt;lgl&gt;</th><th scope=col>&lt;int&gt;</th></tr>\n",
              "</thead>\n",
              "<tbody>\n",
              "\t<tr><td>FALSE</td><td>FALSE</td><td>FALSE</td><td>FALSE</td><td>FALSE</td><td>413</td></tr>\n",
              "</tbody>\n",
              "</table>\n"
            ],
            "text/markdown": "\nA data.frame: 1 × 6\n\n| x.Id &lt;lgl&gt; | x.SleepDay &lt;lgl&gt; | x.TotalSleepRecords &lt;lgl&gt; | x.TotalMinutesAsleep &lt;lgl&gt; | x.TotalTimeInBed &lt;lgl&gt; | freq &lt;int&gt; |\n|---|---|---|---|---|---|\n| FALSE | FALSE | FALSE | FALSE | FALSE | 413 |\n\n",
            "text/latex": "A data.frame: 1 × 6\n\\begin{tabular}{llllll}\n x.Id & x.SleepDay & x.TotalSleepRecords & x.TotalMinutesAsleep & x.TotalTimeInBed & freq\\\\\n <lgl> & <lgl> & <lgl> & <lgl> & <lgl> & <int>\\\\\n\\hline\n\t FALSE & FALSE & FALSE & FALSE & FALSE & 413\\\\\n\\end{tabular}\n",
            "text/plain": [
              "  x.Id  x.SleepDay x.TotalSleepRecords x.TotalMinutesAsleep x.TotalTimeInBed\n",
              "1 FALSE FALSE      FALSE               FALSE                FALSE           \n",
              "  freq\n",
              "1 413 "
            ]
          },
          "metadata": {}
        },
        {
          "output_type": "display_data",
          "data": {
            "text/html": [
              "<table class=\"dataframe\">\n",
              "<caption>A data.frame: 1 × 16</caption>\n",
              "<thead>\n",
              "\t<tr><th scope=col>x.Id</th><th scope=col>x.ActivityDate</th><th scope=col>x.TotalSteps</th><th scope=col>x.TotalDistance</th><th scope=col>x.TrackerDistance</th><th scope=col>x.LoggedActivitiesDistance</th><th scope=col>x.VeryActiveDistance</th><th scope=col>x.ModeratelyActiveDistance</th><th scope=col>x.LightActiveDistance</th><th scope=col>x.SedentaryActiveDistance</th><th scope=col>x.VeryActiveMinutes</th><th scope=col>x.FairlyActiveMinutes</th><th scope=col>x.LightlyActiveMinutes</th><th scope=col>x.SedentaryMinutes</th><th scope=col>x.Calories</th><th scope=col>freq</th></tr>\n",
              "\t<tr><th scope=col>&lt;lgl&gt;</th><th scope=col>&lt;lgl&gt;</th><th scope=col>&lt;lgl&gt;</th><th scope=col>&lt;lgl&gt;</th><th scope=col>&lt;lgl&gt;</th><th scope=col>&lt;lgl&gt;</th><th scope=col>&lt;lgl&gt;</th><th scope=col>&lt;lgl&gt;</th><th scope=col>&lt;lgl&gt;</th><th scope=col>&lt;lgl&gt;</th><th scope=col>&lt;lgl&gt;</th><th scope=col>&lt;lgl&gt;</th><th scope=col>&lt;lgl&gt;</th><th scope=col>&lt;lgl&gt;</th><th scope=col>&lt;lgl&gt;</th><th scope=col>&lt;int&gt;</th></tr>\n",
              "</thead>\n",
              "<tbody>\n",
              "\t<tr><td>FALSE</td><td>FALSE</td><td>FALSE</td><td>FALSE</td><td>FALSE</td><td>FALSE</td><td>FALSE</td><td>FALSE</td><td>FALSE</td><td>FALSE</td><td>FALSE</td><td>FALSE</td><td>FALSE</td><td>FALSE</td><td>FALSE</td><td>940</td></tr>\n",
              "</tbody>\n",
              "</table>\n"
            ],
            "text/markdown": "\nA data.frame: 1 × 16\n\n| x.Id &lt;lgl&gt; | x.ActivityDate &lt;lgl&gt; | x.TotalSteps &lt;lgl&gt; | x.TotalDistance &lt;lgl&gt; | x.TrackerDistance &lt;lgl&gt; | x.LoggedActivitiesDistance &lt;lgl&gt; | x.VeryActiveDistance &lt;lgl&gt; | x.ModeratelyActiveDistance &lt;lgl&gt; | x.LightActiveDistance &lt;lgl&gt; | x.SedentaryActiveDistance &lt;lgl&gt; | x.VeryActiveMinutes &lt;lgl&gt; | x.FairlyActiveMinutes &lt;lgl&gt; | x.LightlyActiveMinutes &lt;lgl&gt; | x.SedentaryMinutes &lt;lgl&gt; | x.Calories &lt;lgl&gt; | freq &lt;int&gt; |\n|---|---|---|---|---|---|---|---|---|---|---|---|---|---|---|---|\n| FALSE | FALSE | FALSE | FALSE | FALSE | FALSE | FALSE | FALSE | FALSE | FALSE | FALSE | FALSE | FALSE | FALSE | FALSE | 940 |\n\n",
            "text/latex": "A data.frame: 1 × 16\n\\begin{tabular}{llllllllllllllll}\n x.Id & x.ActivityDate & x.TotalSteps & x.TotalDistance & x.TrackerDistance & x.LoggedActivitiesDistance & x.VeryActiveDistance & x.ModeratelyActiveDistance & x.LightActiveDistance & x.SedentaryActiveDistance & x.VeryActiveMinutes & x.FairlyActiveMinutes & x.LightlyActiveMinutes & x.SedentaryMinutes & x.Calories & freq\\\\\n <lgl> & <lgl> & <lgl> & <lgl> & <lgl> & <lgl> & <lgl> & <lgl> & <lgl> & <lgl> & <lgl> & <lgl> & <lgl> & <lgl> & <lgl> & <int>\\\\\n\\hline\n\t FALSE & FALSE & FALSE & FALSE & FALSE & FALSE & FALSE & FALSE & FALSE & FALSE & FALSE & FALSE & FALSE & FALSE & FALSE & 940\\\\\n\\end{tabular}\n",
            "text/plain": [
              "  x.Id  x.ActivityDate x.TotalSteps x.TotalDistance x.TrackerDistance\n",
              "1 FALSE FALSE          FALSE        FALSE           FALSE            \n",
              "  x.LoggedActivitiesDistance x.VeryActiveDistance x.ModeratelyActiveDistance\n",
              "1 FALSE                      FALSE                FALSE                     \n",
              "  x.LightActiveDistance x.SedentaryActiveDistance x.VeryActiveMinutes\n",
              "1 FALSE                 FALSE                     FALSE              \n",
              "  x.FairlyActiveMinutes x.LightlyActiveMinutes x.SedentaryMinutes x.Calories\n",
              "1 FALSE                 FALSE                  FALSE              FALSE     \n",
              "  freq\n",
              "1 940 "
            ]
          },
          "metadata": {}
        },
        {
          "output_type": "display_data",
          "data": {
            "text/html": [
              "<table class=\"dataframe\">\n",
              "<caption>A data.frame: 1 × 4</caption>\n",
              "<thead>\n",
              "\t<tr><th scope=col>x.Id</th><th scope=col>x.ActivityHour</th><th scope=col>x.Calories</th><th scope=col>freq</th></tr>\n",
              "\t<tr><th scope=col>&lt;lgl&gt;</th><th scope=col>&lt;lgl&gt;</th><th scope=col>&lt;lgl&gt;</th><th scope=col>&lt;int&gt;</th></tr>\n",
              "</thead>\n",
              "<tbody>\n",
              "\t<tr><td>FALSE</td><td>FALSE</td><td>FALSE</td><td>22099</td></tr>\n",
              "</tbody>\n",
              "</table>\n"
            ],
            "text/markdown": "\nA data.frame: 1 × 4\n\n| x.Id &lt;lgl&gt; | x.ActivityHour &lt;lgl&gt; | x.Calories &lt;lgl&gt; | freq &lt;int&gt; |\n|---|---|---|---|\n| FALSE | FALSE | FALSE | 22099 |\n\n",
            "text/latex": "A data.frame: 1 × 4\n\\begin{tabular}{llll}\n x.Id & x.ActivityHour & x.Calories & freq\\\\\n <lgl> & <lgl> & <lgl> & <int>\\\\\n\\hline\n\t FALSE & FALSE & FALSE & 22099\\\\\n\\end{tabular}\n",
            "text/plain": [
              "  x.Id  x.ActivityHour x.Calories freq \n",
              "1 FALSE FALSE          FALSE      22099"
            ]
          },
          "metadata": {}
        },
        {
          "output_type": "display_data",
          "data": {
            "text/html": [
              "3"
            ],
            "text/markdown": "3",
            "text/latex": "3",
            "text/plain": [
              "[1] 3"
            ]
          },
          "metadata": {}
        },
        {
          "output_type": "display_data",
          "data": {
            "text/html": [
              "0"
            ],
            "text/markdown": "0",
            "text/latex": "0",
            "text/plain": [
              "[1] 0"
            ]
          },
          "metadata": {}
        },
        {
          "output_type": "display_data",
          "data": {
            "text/html": [
              "0"
            ],
            "text/markdown": "0",
            "text/latex": "0",
            "text/plain": [
              "[1] 0"
            ]
          },
          "metadata": {}
        }
      ]
    },
    {
      "cell_type": "markdown",
      "source": [
        "as we can see: there are 3 duplicates in sleep_day\n",
        "we are going to fix that"
      ],
      "metadata": {
        "id": "o6bJf6vMNjYg"
      }
    },
    {
      "cell_type": "code",
      "source": [
        "sleep_data <- sleep_data[!duplicated(sleep_data), ]\n",
        "sum(duplicated(sleep_data))"
      ],
      "metadata": {
        "colab": {
          "base_uri": "https://localhost:8080/",
          "height": 34
        },
        "id": "_N6mWaZmNqR1",
        "outputId": "770862a4-6e9f-49e8-dbb7-8ab00ec12059"
      },
      "execution_count": 8,
      "outputs": [
        {
          "output_type": "display_data",
          "data": {
            "text/html": [
              "0"
            ],
            "text/markdown": "0",
            "text/latex": "0",
            "text/plain": [
              "[1] 0"
            ]
          },
          "metadata": {}
        }
      ]
    },
    {
      "cell_type": "markdown",
      "source": [
        "now i'm going to change the type of title of the columns"
      ],
      "metadata": {
        "id": "r3SqoO-HOFmR"
      }
    },
    {
      "cell_type": "code",
      "source": [
        "sleep_data <- clean_names(sleep_data, case = \"snake\")\n",
        "daily_activity <- clean_names(daily_activity, case = \"snake\")\n",
        "hour_calories <- clean_names(hour_calories, case = \"snake\")"
      ],
      "metadata": {
        "id": "B4R5SWpSOLLB"
      },
      "execution_count": 9,
      "outputs": []
    },
    {
      "cell_type": "markdown",
      "source": [
        "converting minutes to hours on sleep_day data frame\n"
      ],
      "metadata": {
        "id": "fK941gi6IS7W"
      }
    },
    {
      "cell_type": "code",
      "source": [
        "sleep_data <- sleep_data %>%\n",
        "  mutate(sleeping = total_minutes_asleep/60) %>%\n",
        "  mutate(in_bed = total_time_in_bed/60)\n",
        "head(sleep_data)"
      ],
      "metadata": {
        "colab": {
          "base_uri": "https://localhost:8080/",
          "height": 286
        },
        "id": "3hD42OpcIfaY",
        "outputId": "6dda5093-7e15-4aa4-b42a-f5389d745554"
      },
      "execution_count": 10,
      "outputs": [
        {
          "output_type": "display_data",
          "data": {
            "text/html": [
              "<table class=\"dataframe\">\n",
              "<caption>A data.frame: 6 × 7</caption>\n",
              "<thead>\n",
              "\t<tr><th></th><th scope=col>id</th><th scope=col>sleep_day</th><th scope=col>total_sleep_records</th><th scope=col>total_minutes_asleep</th><th scope=col>total_time_in_bed</th><th scope=col>sleeping</th><th scope=col>in_bed</th></tr>\n",
              "\t<tr><th></th><th scope=col>&lt;dbl&gt;</th><th scope=col>&lt;chr&gt;</th><th scope=col>&lt;int&gt;</th><th scope=col>&lt;int&gt;</th><th scope=col>&lt;int&gt;</th><th scope=col>&lt;dbl&gt;</th><th scope=col>&lt;dbl&gt;</th></tr>\n",
              "</thead>\n",
              "<tbody>\n",
              "\t<tr><th scope=row>1</th><td>1503960366</td><td>4/12/2016 12:00:00 AM</td><td>1</td><td>327</td><td>346</td><td> 5.450000</td><td> 5.766667</td></tr>\n",
              "\t<tr><th scope=row>2</th><td>1503960366</td><td>4/13/2016 12:00:00 AM</td><td>2</td><td>384</td><td>407</td><td> 6.400000</td><td> 6.783333</td></tr>\n",
              "\t<tr><th scope=row>3</th><td>1503960366</td><td>4/15/2016 12:00:00 AM</td><td>1</td><td>412</td><td>442</td><td> 6.866667</td><td> 7.366667</td></tr>\n",
              "\t<tr><th scope=row>4</th><td>1503960366</td><td>4/16/2016 12:00:00 AM</td><td>2</td><td>340</td><td>367</td><td> 5.666667</td><td> 6.116667</td></tr>\n",
              "\t<tr><th scope=row>5</th><td>1503960366</td><td>4/17/2016 12:00:00 AM</td><td>1</td><td>700</td><td>712</td><td>11.666667</td><td>11.866667</td></tr>\n",
              "\t<tr><th scope=row>6</th><td>1503960366</td><td>4/19/2016 12:00:00 AM</td><td>1</td><td>304</td><td>320</td><td> 5.066667</td><td> 5.333333</td></tr>\n",
              "</tbody>\n",
              "</table>\n"
            ],
            "text/markdown": "\nA data.frame: 6 × 7\n\n| <!--/--> | id &lt;dbl&gt; | sleep_day &lt;chr&gt; | total_sleep_records &lt;int&gt; | total_minutes_asleep &lt;int&gt; | total_time_in_bed &lt;int&gt; | sleeping &lt;dbl&gt; | in_bed &lt;dbl&gt; |\n|---|---|---|---|---|---|---|---|\n| 1 | 1503960366 | 4/12/2016 12:00:00 AM | 1 | 327 | 346 |  5.450000 |  5.766667 |\n| 2 | 1503960366 | 4/13/2016 12:00:00 AM | 2 | 384 | 407 |  6.400000 |  6.783333 |\n| 3 | 1503960366 | 4/15/2016 12:00:00 AM | 1 | 412 | 442 |  6.866667 |  7.366667 |\n| 4 | 1503960366 | 4/16/2016 12:00:00 AM | 2 | 340 | 367 |  5.666667 |  6.116667 |\n| 5 | 1503960366 | 4/17/2016 12:00:00 AM | 1 | 700 | 712 | 11.666667 | 11.866667 |\n| 6 | 1503960366 | 4/19/2016 12:00:00 AM | 1 | 304 | 320 |  5.066667 |  5.333333 |\n\n",
            "text/latex": "A data.frame: 6 × 7\n\\begin{tabular}{r|lllllll}\n  & id & sleep\\_day & total\\_sleep\\_records & total\\_minutes\\_asleep & total\\_time\\_in\\_bed & sleeping & in\\_bed\\\\\n  & <dbl> & <chr> & <int> & <int> & <int> & <dbl> & <dbl>\\\\\n\\hline\n\t1 & 1503960366 & 4/12/2016 12:00:00 AM & 1 & 327 & 346 &  5.450000 &  5.766667\\\\\n\t2 & 1503960366 & 4/13/2016 12:00:00 AM & 2 & 384 & 407 &  6.400000 &  6.783333\\\\\n\t3 & 1503960366 & 4/15/2016 12:00:00 AM & 1 & 412 & 442 &  6.866667 &  7.366667\\\\\n\t4 & 1503960366 & 4/16/2016 12:00:00 AM & 2 & 340 & 367 &  5.666667 &  6.116667\\\\\n\t5 & 1503960366 & 4/17/2016 12:00:00 AM & 1 & 700 & 712 & 11.666667 & 11.866667\\\\\n\t6 & 1503960366 & 4/19/2016 12:00:00 AM & 1 & 304 & 320 &  5.066667 &  5.333333\\\\\n\\end{tabular}\n",
            "text/plain": [
              "  id         sleep_day             total_sleep_records total_minutes_asleep\n",
              "1 1503960366 4/12/2016 12:00:00 AM 1                   327                 \n",
              "2 1503960366 4/13/2016 12:00:00 AM 2                   384                 \n",
              "3 1503960366 4/15/2016 12:00:00 AM 1                   412                 \n",
              "4 1503960366 4/16/2016 12:00:00 AM 2                   340                 \n",
              "5 1503960366 4/17/2016 12:00:00 AM 1                   700                 \n",
              "6 1503960366 4/19/2016 12:00:00 AM 1                   304                 \n",
              "  total_time_in_bed sleeping  in_bed   \n",
              "1 346                5.450000  5.766667\n",
              "2 407                6.400000  6.783333\n",
              "3 442                6.866667  7.366667\n",
              "4 367                5.666667  6.116667\n",
              "5 712               11.666667 11.866667\n",
              "6 320                5.066667  5.333333"
            ]
          },
          "metadata": {}
        }
      ]
    },
    {
      "cell_type": "markdown",
      "source": [
        "converting to datetime hour_calories"
      ],
      "metadata": {
        "id": "-n2WJ0_FPjcM"
      }
    },
    {
      "cell_type": "code",
      "source": [
        "hour_calories$date <- as.POSIXct(hour_calories$activity_hour, format = \"%m/%d/%Y %I:%M:%S %p\")"
      ],
      "metadata": {
        "id": "O6hTKfO1PnyJ"
      },
      "execution_count": 11,
      "outputs": []
    },
    {
      "cell_type": "markdown",
      "source": [
        "let's see if it worked"
      ],
      "metadata": {
        "id": "shsW7TUnRCs5"
      }
    },
    {
      "cell_type": "code",
      "source": [
        "as_tibble(hour_calories)"
      ],
      "metadata": {
        "id": "663kqQ_cRFpG",
        "colab": {
          "base_uri": "https://localhost:8080/",
          "height": 1000
        },
        "outputId": "91e9b3c6-87b7-4875-e8ea-aecf1c855eab"
      },
      "execution_count": 12,
      "outputs": [
        {
          "output_type": "display_data",
          "data": {
            "text/html": [
              "<table class=\"dataframe\">\n",
              "<caption>A tibble: 22099 × 4</caption>\n",
              "<thead>\n",
              "\t<tr><th scope=col>id</th><th scope=col>activity_hour</th><th scope=col>calories</th><th scope=col>date</th></tr>\n",
              "\t<tr><th scope=col>&lt;dbl&gt;</th><th scope=col>&lt;chr&gt;</th><th scope=col>&lt;int&gt;</th><th scope=col>&lt;dttm&gt;</th></tr>\n",
              "</thead>\n",
              "<tbody>\n",
              "\t<tr><td>1503960366</td><td>4/12/2016 12:00:00 AM</td><td> 81</td><td>2016-04-12 00:00:00</td></tr>\n",
              "\t<tr><td>1503960366</td><td>4/12/2016 1:00:00 AM </td><td> 61</td><td>2016-04-12 01:00:00</td></tr>\n",
              "\t<tr><td>1503960366</td><td>4/12/2016 2:00:00 AM </td><td> 59</td><td>2016-04-12 02:00:00</td></tr>\n",
              "\t<tr><td>1503960366</td><td>4/12/2016 3:00:00 AM </td><td> 47</td><td>2016-04-12 03:00:00</td></tr>\n",
              "\t<tr><td>1503960366</td><td>4/12/2016 4:00:00 AM </td><td> 48</td><td>2016-04-12 04:00:00</td></tr>\n",
              "\t<tr><td>1503960366</td><td>4/12/2016 5:00:00 AM </td><td> 48</td><td>2016-04-12 05:00:00</td></tr>\n",
              "\t<tr><td>1503960366</td><td>4/12/2016 6:00:00 AM </td><td> 48</td><td>2016-04-12 06:00:00</td></tr>\n",
              "\t<tr><td>1503960366</td><td>4/12/2016 7:00:00 AM </td><td> 47</td><td>2016-04-12 07:00:00</td></tr>\n",
              "\t<tr><td>1503960366</td><td>4/12/2016 8:00:00 AM </td><td> 68</td><td>2016-04-12 08:00:00</td></tr>\n",
              "\t<tr><td>1503960366</td><td>4/12/2016 9:00:00 AM </td><td>141</td><td>2016-04-12 09:00:00</td></tr>\n",
              "\t<tr><td>1503960366</td><td>4/12/2016 10:00:00 AM</td><td> 99</td><td>2016-04-12 10:00:00</td></tr>\n",
              "\t<tr><td>1503960366</td><td>4/12/2016 11:00:00 AM</td><td> 76</td><td>2016-04-12 11:00:00</td></tr>\n",
              "\t<tr><td>1503960366</td><td>4/12/2016 12:00:00 PM</td><td> 73</td><td>2016-04-12 12:00:00</td></tr>\n",
              "\t<tr><td>1503960366</td><td>4/12/2016 1:00:00 PM </td><td> 66</td><td>2016-04-12 13:00:00</td></tr>\n",
              "\t<tr><td>1503960366</td><td>4/12/2016 2:00:00 PM </td><td>110</td><td>2016-04-12 14:00:00</td></tr>\n",
              "\t<tr><td>1503960366</td><td>4/12/2016 3:00:00 PM </td><td>151</td><td>2016-04-12 15:00:00</td></tr>\n",
              "\t<tr><td>1503960366</td><td>4/12/2016 4:00:00 PM </td><td> 76</td><td>2016-04-12 16:00:00</td></tr>\n",
              "\t<tr><td>1503960366</td><td>4/12/2016 5:00:00 PM </td><td> 83</td><td>2016-04-12 17:00:00</td></tr>\n",
              "\t<tr><td>1503960366</td><td>4/12/2016 6:00:00 PM </td><td>124</td><td>2016-04-12 18:00:00</td></tr>\n",
              "\t<tr><td>1503960366</td><td>4/12/2016 7:00:00 PM </td><td>104</td><td>2016-04-12 19:00:00</td></tr>\n",
              "\t<tr><td>1503960366</td><td>4/12/2016 8:00:00 PM </td><td>132</td><td>2016-04-12 20:00:00</td></tr>\n",
              "\t<tr><td>1503960366</td><td>4/12/2016 9:00:00 PM </td><td>100</td><td>2016-04-12 21:00:00</td></tr>\n",
              "\t<tr><td>1503960366</td><td>4/12/2016 10:00:00 PM</td><td> 65</td><td>2016-04-12 22:00:00</td></tr>\n",
              "\t<tr><td>1503960366</td><td>4/12/2016 11:00:00 PM</td><td> 81</td><td>2016-04-12 23:00:00</td></tr>\n",
              "\t<tr><td>1503960366</td><td>4/13/2016 12:00:00 AM</td><td> 69</td><td>2016-04-13 00:00:00</td></tr>\n",
              "\t<tr><td>1503960366</td><td>4/13/2016 1:00:00 AM </td><td> 48</td><td>2016-04-13 01:00:00</td></tr>\n",
              "\t<tr><td>1503960366</td><td>4/13/2016 2:00:00 AM </td><td> 47</td><td>2016-04-13 02:00:00</td></tr>\n",
              "\t<tr><td>1503960366</td><td>4/13/2016 3:00:00 AM </td><td> 53</td><td>2016-04-13 03:00:00</td></tr>\n",
              "\t<tr><td>1503960366</td><td>4/13/2016 4:00:00 AM </td><td> 47</td><td>2016-04-13 04:00:00</td></tr>\n",
              "\t<tr><td>1503960366</td><td>4/13/2016 5:00:00 AM </td><td> 47</td><td>2016-04-13 05:00:00</td></tr>\n",
              "\t<tr><td>⋮</td><td>⋮</td><td>⋮</td><td>⋮</td></tr>\n",
              "\t<tr><td>8877689391</td><td>5/11/2016 9:00:00 AM </td><td>113</td><td>2016-05-11 09:00:00</td></tr>\n",
              "\t<tr><td>8877689391</td><td>5/11/2016 10:00:00 AM</td><td>107</td><td>2016-05-11 10:00:00</td></tr>\n",
              "\t<tr><td>8877689391</td><td>5/11/2016 11:00:00 AM</td><td>168</td><td>2016-05-11 11:00:00</td></tr>\n",
              "\t<tr><td>8877689391</td><td>5/11/2016 12:00:00 PM</td><td>402</td><td>2016-05-11 12:00:00</td></tr>\n",
              "\t<tr><td>8877689391</td><td>5/11/2016 1:00:00 PM </td><td>120</td><td>2016-05-11 13:00:00</td></tr>\n",
              "\t<tr><td>8877689391</td><td>5/11/2016 2:00:00 PM </td><td> 82</td><td>2016-05-11 14:00:00</td></tr>\n",
              "\t<tr><td>8877689391</td><td>5/11/2016 3:00:00 PM </td><td>108</td><td>2016-05-11 15:00:00</td></tr>\n",
              "\t<tr><td>8877689391</td><td>5/11/2016 4:00:00 PM </td><td>310</td><td>2016-05-11 16:00:00</td></tr>\n",
              "\t<tr><td>8877689391</td><td>5/11/2016 5:00:00 PM </td><td>835</td><td>2016-05-11 17:00:00</td></tr>\n",
              "\t<tr><td>8877689391</td><td>5/11/2016 6:00:00 PM </td><td>197</td><td>2016-05-11 18:00:00</td></tr>\n",
              "\t<tr><td>8877689391</td><td>5/11/2016 7:00:00 PM </td><td>144</td><td>2016-05-11 19:00:00</td></tr>\n",
              "\t<tr><td>8877689391</td><td>5/11/2016 8:00:00 PM </td><td>174</td><td>2016-05-11 20:00:00</td></tr>\n",
              "\t<tr><td>8877689391</td><td>5/11/2016 9:00:00 PM </td><td>123</td><td>2016-05-11 21:00:00</td></tr>\n",
              "\t<tr><td>8877689391</td><td>5/11/2016 10:00:00 PM</td><td> 93</td><td>2016-05-11 22:00:00</td></tr>\n",
              "\t<tr><td>8877689391</td><td>5/11/2016 11:00:00 PM</td><td> 73</td><td>2016-05-11 23:00:00</td></tr>\n",
              "\t<tr><td>8877689391</td><td>5/12/2016 12:00:00 AM</td><td> 73</td><td>2016-05-12 00:00:00</td></tr>\n",
              "\t<tr><td>8877689391</td><td>5/12/2016 1:00:00 AM </td><td> 73</td><td>2016-05-12 01:00:00</td></tr>\n",
              "\t<tr><td>8877689391</td><td>5/12/2016 2:00:00 AM </td><td> 73</td><td>2016-05-12 02:00:00</td></tr>\n",
              "\t<tr><td>8877689391</td><td>5/12/2016 3:00:00 AM </td><td> 73</td><td>2016-05-12 03:00:00</td></tr>\n",
              "\t<tr><td>8877689391</td><td>5/12/2016 4:00:00 AM </td><td> 73</td><td>2016-05-12 04:00:00</td></tr>\n",
              "\t<tr><td>8877689391</td><td>5/12/2016 5:00:00 AM </td><td> 73</td><td>2016-05-12 05:00:00</td></tr>\n",
              "\t<tr><td>8877689391</td><td>5/12/2016 6:00:00 AM </td><td>107</td><td>2016-05-12 06:00:00</td></tr>\n",
              "\t<tr><td>8877689391</td><td>5/12/2016 7:00:00 AM </td><td>148</td><td>2016-05-12 07:00:00</td></tr>\n",
              "\t<tr><td>8877689391</td><td>5/12/2016 8:00:00 AM </td><td>137</td><td>2016-05-12 08:00:00</td></tr>\n",
              "\t<tr><td>8877689391</td><td>5/12/2016 9:00:00 AM </td><td> 88</td><td>2016-05-12 09:00:00</td></tr>\n",
              "\t<tr><td>8877689391</td><td>5/12/2016 10:00:00 AM</td><td>126</td><td>2016-05-12 10:00:00</td></tr>\n",
              "\t<tr><td>8877689391</td><td>5/12/2016 11:00:00 AM</td><td>192</td><td>2016-05-12 11:00:00</td></tr>\n",
              "\t<tr><td>8877689391</td><td>5/12/2016 12:00:00 PM</td><td>321</td><td>2016-05-12 12:00:00</td></tr>\n",
              "\t<tr><td>8877689391</td><td>5/12/2016 1:00:00 PM </td><td>101</td><td>2016-05-12 13:00:00</td></tr>\n",
              "\t<tr><td>8877689391</td><td>5/12/2016 2:00:00 PM </td><td>113</td><td>2016-05-12 14:00:00</td></tr>\n",
              "</tbody>\n",
              "</table>\n"
            ],
            "text/markdown": "\nA tibble: 22099 × 4\n\n| id &lt;dbl&gt; | activity_hour &lt;chr&gt; | calories &lt;int&gt; | date &lt;dttm&gt; |\n|---|---|---|---|\n| 1503960366 | 4/12/2016 12:00:00 AM |  81 | 2016-04-12 00:00:00 |\n| 1503960366 | 4/12/2016 1:00:00 AM  |  61 | 2016-04-12 01:00:00 |\n| 1503960366 | 4/12/2016 2:00:00 AM  |  59 | 2016-04-12 02:00:00 |\n| 1503960366 | 4/12/2016 3:00:00 AM  |  47 | 2016-04-12 03:00:00 |\n| 1503960366 | 4/12/2016 4:00:00 AM  |  48 | 2016-04-12 04:00:00 |\n| 1503960366 | 4/12/2016 5:00:00 AM  |  48 | 2016-04-12 05:00:00 |\n| 1503960366 | 4/12/2016 6:00:00 AM  |  48 | 2016-04-12 06:00:00 |\n| 1503960366 | 4/12/2016 7:00:00 AM  |  47 | 2016-04-12 07:00:00 |\n| 1503960366 | 4/12/2016 8:00:00 AM  |  68 | 2016-04-12 08:00:00 |\n| 1503960366 | 4/12/2016 9:00:00 AM  | 141 | 2016-04-12 09:00:00 |\n| 1503960366 | 4/12/2016 10:00:00 AM |  99 | 2016-04-12 10:00:00 |\n| 1503960366 | 4/12/2016 11:00:00 AM |  76 | 2016-04-12 11:00:00 |\n| 1503960366 | 4/12/2016 12:00:00 PM |  73 | 2016-04-12 12:00:00 |\n| 1503960366 | 4/12/2016 1:00:00 PM  |  66 | 2016-04-12 13:00:00 |\n| 1503960366 | 4/12/2016 2:00:00 PM  | 110 | 2016-04-12 14:00:00 |\n| 1503960366 | 4/12/2016 3:00:00 PM  | 151 | 2016-04-12 15:00:00 |\n| 1503960366 | 4/12/2016 4:00:00 PM  |  76 | 2016-04-12 16:00:00 |\n| 1503960366 | 4/12/2016 5:00:00 PM  |  83 | 2016-04-12 17:00:00 |\n| 1503960366 | 4/12/2016 6:00:00 PM  | 124 | 2016-04-12 18:00:00 |\n| 1503960366 | 4/12/2016 7:00:00 PM  | 104 | 2016-04-12 19:00:00 |\n| 1503960366 | 4/12/2016 8:00:00 PM  | 132 | 2016-04-12 20:00:00 |\n| 1503960366 | 4/12/2016 9:00:00 PM  | 100 | 2016-04-12 21:00:00 |\n| 1503960366 | 4/12/2016 10:00:00 PM |  65 | 2016-04-12 22:00:00 |\n| 1503960366 | 4/12/2016 11:00:00 PM |  81 | 2016-04-12 23:00:00 |\n| 1503960366 | 4/13/2016 12:00:00 AM |  69 | 2016-04-13 00:00:00 |\n| 1503960366 | 4/13/2016 1:00:00 AM  |  48 | 2016-04-13 01:00:00 |\n| 1503960366 | 4/13/2016 2:00:00 AM  |  47 | 2016-04-13 02:00:00 |\n| 1503960366 | 4/13/2016 3:00:00 AM  |  53 | 2016-04-13 03:00:00 |\n| 1503960366 | 4/13/2016 4:00:00 AM  |  47 | 2016-04-13 04:00:00 |\n| 1503960366 | 4/13/2016 5:00:00 AM  |  47 | 2016-04-13 05:00:00 |\n| ⋮ | ⋮ | ⋮ | ⋮ |\n| 8877689391 | 5/11/2016 9:00:00 AM  | 113 | 2016-05-11 09:00:00 |\n| 8877689391 | 5/11/2016 10:00:00 AM | 107 | 2016-05-11 10:00:00 |\n| 8877689391 | 5/11/2016 11:00:00 AM | 168 | 2016-05-11 11:00:00 |\n| 8877689391 | 5/11/2016 12:00:00 PM | 402 | 2016-05-11 12:00:00 |\n| 8877689391 | 5/11/2016 1:00:00 PM  | 120 | 2016-05-11 13:00:00 |\n| 8877689391 | 5/11/2016 2:00:00 PM  |  82 | 2016-05-11 14:00:00 |\n| 8877689391 | 5/11/2016 3:00:00 PM  | 108 | 2016-05-11 15:00:00 |\n| 8877689391 | 5/11/2016 4:00:00 PM  | 310 | 2016-05-11 16:00:00 |\n| 8877689391 | 5/11/2016 5:00:00 PM  | 835 | 2016-05-11 17:00:00 |\n| 8877689391 | 5/11/2016 6:00:00 PM  | 197 | 2016-05-11 18:00:00 |\n| 8877689391 | 5/11/2016 7:00:00 PM  | 144 | 2016-05-11 19:00:00 |\n| 8877689391 | 5/11/2016 8:00:00 PM  | 174 | 2016-05-11 20:00:00 |\n| 8877689391 | 5/11/2016 9:00:00 PM  | 123 | 2016-05-11 21:00:00 |\n| 8877689391 | 5/11/2016 10:00:00 PM |  93 | 2016-05-11 22:00:00 |\n| 8877689391 | 5/11/2016 11:00:00 PM |  73 | 2016-05-11 23:00:00 |\n| 8877689391 | 5/12/2016 12:00:00 AM |  73 | 2016-05-12 00:00:00 |\n| 8877689391 | 5/12/2016 1:00:00 AM  |  73 | 2016-05-12 01:00:00 |\n| 8877689391 | 5/12/2016 2:00:00 AM  |  73 | 2016-05-12 02:00:00 |\n| 8877689391 | 5/12/2016 3:00:00 AM  |  73 | 2016-05-12 03:00:00 |\n| 8877689391 | 5/12/2016 4:00:00 AM  |  73 | 2016-05-12 04:00:00 |\n| 8877689391 | 5/12/2016 5:00:00 AM  |  73 | 2016-05-12 05:00:00 |\n| 8877689391 | 5/12/2016 6:00:00 AM  | 107 | 2016-05-12 06:00:00 |\n| 8877689391 | 5/12/2016 7:00:00 AM  | 148 | 2016-05-12 07:00:00 |\n| 8877689391 | 5/12/2016 8:00:00 AM  | 137 | 2016-05-12 08:00:00 |\n| 8877689391 | 5/12/2016 9:00:00 AM  |  88 | 2016-05-12 09:00:00 |\n| 8877689391 | 5/12/2016 10:00:00 AM | 126 | 2016-05-12 10:00:00 |\n| 8877689391 | 5/12/2016 11:00:00 AM | 192 | 2016-05-12 11:00:00 |\n| 8877689391 | 5/12/2016 12:00:00 PM | 321 | 2016-05-12 12:00:00 |\n| 8877689391 | 5/12/2016 1:00:00 PM  | 101 | 2016-05-12 13:00:00 |\n| 8877689391 | 5/12/2016 2:00:00 PM  | 113 | 2016-05-12 14:00:00 |\n\n",
            "text/latex": "A tibble: 22099 × 4\n\\begin{tabular}{llll}\n id & activity\\_hour & calories & date\\\\\n <dbl> & <chr> & <int> & <dttm>\\\\\n\\hline\n\t 1503960366 & 4/12/2016 12:00:00 AM &  81 & 2016-04-12 00:00:00\\\\\n\t 1503960366 & 4/12/2016 1:00:00 AM  &  61 & 2016-04-12 01:00:00\\\\\n\t 1503960366 & 4/12/2016 2:00:00 AM  &  59 & 2016-04-12 02:00:00\\\\\n\t 1503960366 & 4/12/2016 3:00:00 AM  &  47 & 2016-04-12 03:00:00\\\\\n\t 1503960366 & 4/12/2016 4:00:00 AM  &  48 & 2016-04-12 04:00:00\\\\\n\t 1503960366 & 4/12/2016 5:00:00 AM  &  48 & 2016-04-12 05:00:00\\\\\n\t 1503960366 & 4/12/2016 6:00:00 AM  &  48 & 2016-04-12 06:00:00\\\\\n\t 1503960366 & 4/12/2016 7:00:00 AM  &  47 & 2016-04-12 07:00:00\\\\\n\t 1503960366 & 4/12/2016 8:00:00 AM  &  68 & 2016-04-12 08:00:00\\\\\n\t 1503960366 & 4/12/2016 9:00:00 AM  & 141 & 2016-04-12 09:00:00\\\\\n\t 1503960366 & 4/12/2016 10:00:00 AM &  99 & 2016-04-12 10:00:00\\\\\n\t 1503960366 & 4/12/2016 11:00:00 AM &  76 & 2016-04-12 11:00:00\\\\\n\t 1503960366 & 4/12/2016 12:00:00 PM &  73 & 2016-04-12 12:00:00\\\\\n\t 1503960366 & 4/12/2016 1:00:00 PM  &  66 & 2016-04-12 13:00:00\\\\\n\t 1503960366 & 4/12/2016 2:00:00 PM  & 110 & 2016-04-12 14:00:00\\\\\n\t 1503960366 & 4/12/2016 3:00:00 PM  & 151 & 2016-04-12 15:00:00\\\\\n\t 1503960366 & 4/12/2016 4:00:00 PM  &  76 & 2016-04-12 16:00:00\\\\\n\t 1503960366 & 4/12/2016 5:00:00 PM  &  83 & 2016-04-12 17:00:00\\\\\n\t 1503960366 & 4/12/2016 6:00:00 PM  & 124 & 2016-04-12 18:00:00\\\\\n\t 1503960366 & 4/12/2016 7:00:00 PM  & 104 & 2016-04-12 19:00:00\\\\\n\t 1503960366 & 4/12/2016 8:00:00 PM  & 132 & 2016-04-12 20:00:00\\\\\n\t 1503960366 & 4/12/2016 9:00:00 PM  & 100 & 2016-04-12 21:00:00\\\\\n\t 1503960366 & 4/12/2016 10:00:00 PM &  65 & 2016-04-12 22:00:00\\\\\n\t 1503960366 & 4/12/2016 11:00:00 PM &  81 & 2016-04-12 23:00:00\\\\\n\t 1503960366 & 4/13/2016 12:00:00 AM &  69 & 2016-04-13 00:00:00\\\\\n\t 1503960366 & 4/13/2016 1:00:00 AM  &  48 & 2016-04-13 01:00:00\\\\\n\t 1503960366 & 4/13/2016 2:00:00 AM  &  47 & 2016-04-13 02:00:00\\\\\n\t 1503960366 & 4/13/2016 3:00:00 AM  &  53 & 2016-04-13 03:00:00\\\\\n\t 1503960366 & 4/13/2016 4:00:00 AM  &  47 & 2016-04-13 04:00:00\\\\\n\t 1503960366 & 4/13/2016 5:00:00 AM  &  47 & 2016-04-13 05:00:00\\\\\n\t ⋮ & ⋮ & ⋮ & ⋮\\\\\n\t 8877689391 & 5/11/2016 9:00:00 AM  & 113 & 2016-05-11 09:00:00\\\\\n\t 8877689391 & 5/11/2016 10:00:00 AM & 107 & 2016-05-11 10:00:00\\\\\n\t 8877689391 & 5/11/2016 11:00:00 AM & 168 & 2016-05-11 11:00:00\\\\\n\t 8877689391 & 5/11/2016 12:00:00 PM & 402 & 2016-05-11 12:00:00\\\\\n\t 8877689391 & 5/11/2016 1:00:00 PM  & 120 & 2016-05-11 13:00:00\\\\\n\t 8877689391 & 5/11/2016 2:00:00 PM  &  82 & 2016-05-11 14:00:00\\\\\n\t 8877689391 & 5/11/2016 3:00:00 PM  & 108 & 2016-05-11 15:00:00\\\\\n\t 8877689391 & 5/11/2016 4:00:00 PM  & 310 & 2016-05-11 16:00:00\\\\\n\t 8877689391 & 5/11/2016 5:00:00 PM  & 835 & 2016-05-11 17:00:00\\\\\n\t 8877689391 & 5/11/2016 6:00:00 PM  & 197 & 2016-05-11 18:00:00\\\\\n\t 8877689391 & 5/11/2016 7:00:00 PM  & 144 & 2016-05-11 19:00:00\\\\\n\t 8877689391 & 5/11/2016 8:00:00 PM  & 174 & 2016-05-11 20:00:00\\\\\n\t 8877689391 & 5/11/2016 9:00:00 PM  & 123 & 2016-05-11 21:00:00\\\\\n\t 8877689391 & 5/11/2016 10:00:00 PM &  93 & 2016-05-11 22:00:00\\\\\n\t 8877689391 & 5/11/2016 11:00:00 PM &  73 & 2016-05-11 23:00:00\\\\\n\t 8877689391 & 5/12/2016 12:00:00 AM &  73 & 2016-05-12 00:00:00\\\\\n\t 8877689391 & 5/12/2016 1:00:00 AM  &  73 & 2016-05-12 01:00:00\\\\\n\t 8877689391 & 5/12/2016 2:00:00 AM  &  73 & 2016-05-12 02:00:00\\\\\n\t 8877689391 & 5/12/2016 3:00:00 AM  &  73 & 2016-05-12 03:00:00\\\\\n\t 8877689391 & 5/12/2016 4:00:00 AM  &  73 & 2016-05-12 04:00:00\\\\\n\t 8877689391 & 5/12/2016 5:00:00 AM  &  73 & 2016-05-12 05:00:00\\\\\n\t 8877689391 & 5/12/2016 6:00:00 AM  & 107 & 2016-05-12 06:00:00\\\\\n\t 8877689391 & 5/12/2016 7:00:00 AM  & 148 & 2016-05-12 07:00:00\\\\\n\t 8877689391 & 5/12/2016 8:00:00 AM  & 137 & 2016-05-12 08:00:00\\\\\n\t 8877689391 & 5/12/2016 9:00:00 AM  &  88 & 2016-05-12 09:00:00\\\\\n\t 8877689391 & 5/12/2016 10:00:00 AM & 126 & 2016-05-12 10:00:00\\\\\n\t 8877689391 & 5/12/2016 11:00:00 AM & 192 & 2016-05-12 11:00:00\\\\\n\t 8877689391 & 5/12/2016 12:00:00 PM & 321 & 2016-05-12 12:00:00\\\\\n\t 8877689391 & 5/12/2016 1:00:00 PM  & 101 & 2016-05-12 13:00:00\\\\\n\t 8877689391 & 5/12/2016 2:00:00 PM  & 113 & 2016-05-12 14:00:00\\\\\n\\end{tabular}\n",
            "text/plain": [
              "      id         activity_hour         calories date               \n",
              "1     1503960366 4/12/2016 12:00:00 AM  81      2016-04-12 00:00:00\n",
              "2     1503960366 4/12/2016 1:00:00 AM   61      2016-04-12 01:00:00\n",
              "3     1503960366 4/12/2016 2:00:00 AM   59      2016-04-12 02:00:00\n",
              "4     1503960366 4/12/2016 3:00:00 AM   47      2016-04-12 03:00:00\n",
              "5     1503960366 4/12/2016 4:00:00 AM   48      2016-04-12 04:00:00\n",
              "6     1503960366 4/12/2016 5:00:00 AM   48      2016-04-12 05:00:00\n",
              "7     1503960366 4/12/2016 6:00:00 AM   48      2016-04-12 06:00:00\n",
              "8     1503960366 4/12/2016 7:00:00 AM   47      2016-04-12 07:00:00\n",
              "9     1503960366 4/12/2016 8:00:00 AM   68      2016-04-12 08:00:00\n",
              "10    1503960366 4/12/2016 9:00:00 AM  141      2016-04-12 09:00:00\n",
              "11    1503960366 4/12/2016 10:00:00 AM  99      2016-04-12 10:00:00\n",
              "12    1503960366 4/12/2016 11:00:00 AM  76      2016-04-12 11:00:00\n",
              "13    1503960366 4/12/2016 12:00:00 PM  73      2016-04-12 12:00:00\n",
              "14    1503960366 4/12/2016 1:00:00 PM   66      2016-04-12 13:00:00\n",
              "15    1503960366 4/12/2016 2:00:00 PM  110      2016-04-12 14:00:00\n",
              "16    1503960366 4/12/2016 3:00:00 PM  151      2016-04-12 15:00:00\n",
              "17    1503960366 4/12/2016 4:00:00 PM   76      2016-04-12 16:00:00\n",
              "18    1503960366 4/12/2016 5:00:00 PM   83      2016-04-12 17:00:00\n",
              "19    1503960366 4/12/2016 6:00:00 PM  124      2016-04-12 18:00:00\n",
              "20    1503960366 4/12/2016 7:00:00 PM  104      2016-04-12 19:00:00\n",
              "21    1503960366 4/12/2016 8:00:00 PM  132      2016-04-12 20:00:00\n",
              "22    1503960366 4/12/2016 9:00:00 PM  100      2016-04-12 21:00:00\n",
              "23    1503960366 4/12/2016 10:00:00 PM  65      2016-04-12 22:00:00\n",
              "24    1503960366 4/12/2016 11:00:00 PM  81      2016-04-12 23:00:00\n",
              "25    1503960366 4/13/2016 12:00:00 AM  69      2016-04-13 00:00:00\n",
              "26    1503960366 4/13/2016 1:00:00 AM   48      2016-04-13 01:00:00\n",
              "27    1503960366 4/13/2016 2:00:00 AM   47      2016-04-13 02:00:00\n",
              "28    1503960366 4/13/2016 3:00:00 AM   53      2016-04-13 03:00:00\n",
              "29    1503960366 4/13/2016 4:00:00 AM   47      2016-04-13 04:00:00\n",
              "30    1503960366 4/13/2016 5:00:00 AM   47      2016-04-13 05:00:00\n",
              "⋮     ⋮          ⋮                     ⋮        ⋮                  \n",
              "22070 8877689391 5/11/2016 9:00:00 AM  113      2016-05-11 09:00:00\n",
              "22071 8877689391 5/11/2016 10:00:00 AM 107      2016-05-11 10:00:00\n",
              "22072 8877689391 5/11/2016 11:00:00 AM 168      2016-05-11 11:00:00\n",
              "22073 8877689391 5/11/2016 12:00:00 PM 402      2016-05-11 12:00:00\n",
              "22074 8877689391 5/11/2016 1:00:00 PM  120      2016-05-11 13:00:00\n",
              "22075 8877689391 5/11/2016 2:00:00 PM   82      2016-05-11 14:00:00\n",
              "22076 8877689391 5/11/2016 3:00:00 PM  108      2016-05-11 15:00:00\n",
              "22077 8877689391 5/11/2016 4:00:00 PM  310      2016-05-11 16:00:00\n",
              "22078 8877689391 5/11/2016 5:00:00 PM  835      2016-05-11 17:00:00\n",
              "22079 8877689391 5/11/2016 6:00:00 PM  197      2016-05-11 18:00:00\n",
              "22080 8877689391 5/11/2016 7:00:00 PM  144      2016-05-11 19:00:00\n",
              "22081 8877689391 5/11/2016 8:00:00 PM  174      2016-05-11 20:00:00\n",
              "22082 8877689391 5/11/2016 9:00:00 PM  123      2016-05-11 21:00:00\n",
              "22083 8877689391 5/11/2016 10:00:00 PM  93      2016-05-11 22:00:00\n",
              "22084 8877689391 5/11/2016 11:00:00 PM  73      2016-05-11 23:00:00\n",
              "22085 8877689391 5/12/2016 12:00:00 AM  73      2016-05-12 00:00:00\n",
              "22086 8877689391 5/12/2016 1:00:00 AM   73      2016-05-12 01:00:00\n",
              "22087 8877689391 5/12/2016 2:00:00 AM   73      2016-05-12 02:00:00\n",
              "22088 8877689391 5/12/2016 3:00:00 AM   73      2016-05-12 03:00:00\n",
              "22089 8877689391 5/12/2016 4:00:00 AM   73      2016-05-12 04:00:00\n",
              "22090 8877689391 5/12/2016 5:00:00 AM   73      2016-05-12 05:00:00\n",
              "22091 8877689391 5/12/2016 6:00:00 AM  107      2016-05-12 06:00:00\n",
              "22092 8877689391 5/12/2016 7:00:00 AM  148      2016-05-12 07:00:00\n",
              "22093 8877689391 5/12/2016 8:00:00 AM  137      2016-05-12 08:00:00\n",
              "22094 8877689391 5/12/2016 9:00:00 AM   88      2016-05-12 09:00:00\n",
              "22095 8877689391 5/12/2016 10:00:00 AM 126      2016-05-12 10:00:00\n",
              "22096 8877689391 5/12/2016 11:00:00 AM 192      2016-05-12 11:00:00\n",
              "22097 8877689391 5/12/2016 12:00:00 PM 321      2016-05-12 12:00:00\n",
              "22098 8877689391 5/12/2016 1:00:00 PM  101      2016-05-12 13:00:00\n",
              "22099 8877689391 5/12/2016 2:00:00 PM  113      2016-05-12 14:00:00"
            ]
          },
          "metadata": {}
        }
      ]
    },
    {
      "cell_type": "markdown",
      "source": [
        "transforming to day of week"
      ],
      "metadata": {
        "id": "zW7sgem9cXHd"
      }
    },
    {
      "cell_type": "code",
      "source": [
        "head(hour_calories)"
      ],
      "metadata": {
        "colab": {
          "base_uri": "https://localhost:8080/",
          "height": 286
        },
        "id": "iPyvjp1PK5SL",
        "outputId": "120ea320-0d05-4bcf-a87d-c857f381b767"
      },
      "execution_count": 13,
      "outputs": [
        {
          "output_type": "display_data",
          "data": {
            "text/html": [
              "<table class=\"dataframe\">\n",
              "<caption>A data.frame: 6 × 4</caption>\n",
              "<thead>\n",
              "\t<tr><th></th><th scope=col>id</th><th scope=col>activity_hour</th><th scope=col>calories</th><th scope=col>date</th></tr>\n",
              "\t<tr><th></th><th scope=col>&lt;dbl&gt;</th><th scope=col>&lt;chr&gt;</th><th scope=col>&lt;int&gt;</th><th scope=col>&lt;dttm&gt;</th></tr>\n",
              "</thead>\n",
              "<tbody>\n",
              "\t<tr><th scope=row>1</th><td>1503960366</td><td>4/12/2016 12:00:00 AM</td><td>81</td><td>2016-04-12 00:00:00</td></tr>\n",
              "\t<tr><th scope=row>2</th><td>1503960366</td><td>4/12/2016 1:00:00 AM </td><td>61</td><td>2016-04-12 01:00:00</td></tr>\n",
              "\t<tr><th scope=row>3</th><td>1503960366</td><td>4/12/2016 2:00:00 AM </td><td>59</td><td>2016-04-12 02:00:00</td></tr>\n",
              "\t<tr><th scope=row>4</th><td>1503960366</td><td>4/12/2016 3:00:00 AM </td><td>47</td><td>2016-04-12 03:00:00</td></tr>\n",
              "\t<tr><th scope=row>5</th><td>1503960366</td><td>4/12/2016 4:00:00 AM </td><td>48</td><td>2016-04-12 04:00:00</td></tr>\n",
              "\t<tr><th scope=row>6</th><td>1503960366</td><td>4/12/2016 5:00:00 AM </td><td>48</td><td>2016-04-12 05:00:00</td></tr>\n",
              "</tbody>\n",
              "</table>\n"
            ],
            "text/markdown": "\nA data.frame: 6 × 4\n\n| <!--/--> | id &lt;dbl&gt; | activity_hour &lt;chr&gt; | calories &lt;int&gt; | date &lt;dttm&gt; |\n|---|---|---|---|---|\n| 1 | 1503960366 | 4/12/2016 12:00:00 AM | 81 | 2016-04-12 00:00:00 |\n| 2 | 1503960366 | 4/12/2016 1:00:00 AM  | 61 | 2016-04-12 01:00:00 |\n| 3 | 1503960366 | 4/12/2016 2:00:00 AM  | 59 | 2016-04-12 02:00:00 |\n| 4 | 1503960366 | 4/12/2016 3:00:00 AM  | 47 | 2016-04-12 03:00:00 |\n| 5 | 1503960366 | 4/12/2016 4:00:00 AM  | 48 | 2016-04-12 04:00:00 |\n| 6 | 1503960366 | 4/12/2016 5:00:00 AM  | 48 | 2016-04-12 05:00:00 |\n\n",
            "text/latex": "A data.frame: 6 × 4\n\\begin{tabular}{r|llll}\n  & id & activity\\_hour & calories & date\\\\\n  & <dbl> & <chr> & <int> & <dttm>\\\\\n\\hline\n\t1 & 1503960366 & 4/12/2016 12:00:00 AM & 81 & 2016-04-12 00:00:00\\\\\n\t2 & 1503960366 & 4/12/2016 1:00:00 AM  & 61 & 2016-04-12 01:00:00\\\\\n\t3 & 1503960366 & 4/12/2016 2:00:00 AM  & 59 & 2016-04-12 02:00:00\\\\\n\t4 & 1503960366 & 4/12/2016 3:00:00 AM  & 47 & 2016-04-12 03:00:00\\\\\n\t5 & 1503960366 & 4/12/2016 4:00:00 AM  & 48 & 2016-04-12 04:00:00\\\\\n\t6 & 1503960366 & 4/12/2016 5:00:00 AM  & 48 & 2016-04-12 05:00:00\\\\\n\\end{tabular}\n",
            "text/plain": [
              "  id         activity_hour         calories date               \n",
              "1 1503960366 4/12/2016 12:00:00 AM 81       2016-04-12 00:00:00\n",
              "2 1503960366 4/12/2016 1:00:00 AM  61       2016-04-12 01:00:00\n",
              "3 1503960366 4/12/2016 2:00:00 AM  59       2016-04-12 02:00:00\n",
              "4 1503960366 4/12/2016 3:00:00 AM  47       2016-04-12 03:00:00\n",
              "5 1503960366 4/12/2016 4:00:00 AM  48       2016-04-12 04:00:00\n",
              "6 1503960366 4/12/2016 5:00:00 AM  48       2016-04-12 05:00:00"
            ]
          },
          "metadata": {}
        }
      ]
    },
    {
      "cell_type": "code",
      "source": [
        "#sleep day\n",
        "sleep_data$date <- mdy_hms(sleep_data$sleep_day)\n",
        "sleep_data$day_of_week <- weekdays(sleep_data$date)\n",
        "\n",
        "#daily activity\n",
        "daily_activity$date <- mdy(daily_activity$activity_date)\n",
        "daily_activity$day_of_week <- weekdays(daily_activity$date)\n",
        "\n",
        "#calories\n",
        "hour_calories$day_of_week <- weekdays(hour_calories$date)"
      ],
      "metadata": {
        "id": "Nf8Xr_tNcczu"
      },
      "execution_count": 14,
      "outputs": []
    },
    {
      "cell_type": "markdown",
      "source": [
        "before taking the next step, I want to see how many unique IDs we have in each data frame"
      ],
      "metadata": {
        "id": "SIzCm0QxVwuN"
      }
    },
    {
      "cell_type": "code",
      "source": [
        "print(\"Unique sleep_day\")\n",
        "sleep_data$id <- as.character(sleep_data$id)\n",
        "unique(sleep_data$id)\n",
        "length(unique(sleep_data$id))\n",
        "print(\"Unique daily_activity\")\n",
        "daily_activity$id <- as.character(daily_activity$id)\n",
        "unique(daily_activity$id)\n",
        "length(unique(daily_activity$id))\n",
        "print(\"Unique hour_calories\")\n",
        "hour_calories$id <- as.character(hour_calories$id)\n",
        "unique(hour_calories$id)\n",
        "length(unique(hour_calories$id))"
      ],
      "metadata": {
        "colab": {
          "base_uri": "https://localhost:8080/",
          "height": 260
        },
        "id": "n10Kw1j-VwXW",
        "outputId": "75438242-f8d2-450c-d1f7-370583f6dcd6"
      },
      "execution_count": 17,
      "outputs": [
        {
          "output_type": "stream",
          "name": "stdout",
          "text": [
            "[1] \"Unique sleep_day\"\n"
          ]
        },
        {
          "output_type": "display_data",
          "data": {
            "text/html": [
              "<style>\n",
              ".list-inline {list-style: none; margin:0; padding: 0}\n",
              ".list-inline>li {display: inline-block}\n",
              ".list-inline>li:not(:last-child)::after {content: \"\\00b7\"; padding: 0 .5ex}\n",
              "</style>\n",
              "<ol class=list-inline><li>'1503960366'</li><li>'1644430081'</li><li>'1844505072'</li><li>'1927972279'</li><li>'2026352035'</li><li>'2320127002'</li><li>'2347167796'</li><li>'3977333714'</li><li>'4020332650'</li><li>'4319703577'</li><li>'4388161847'</li><li>'4445114986'</li><li>'4558609924'</li><li>'4702921684'</li><li>'5553957443'</li><li>'5577150313'</li><li>'6117666160'</li><li>'6775888955'</li><li>'6962181067'</li><li>'7007744171'</li><li>'7086361926'</li><li>'8053475328'</li><li>'8378563200'</li><li>'8792009665'</li></ol>\n"
            ],
            "text/markdown": "1. '1503960366'\n2. '1644430081'\n3. '1844505072'\n4. '1927972279'\n5. '2026352035'\n6. '2320127002'\n7. '2347167796'\n8. '3977333714'\n9. '4020332650'\n10. '4319703577'\n11. '4388161847'\n12. '4445114986'\n13. '4558609924'\n14. '4702921684'\n15. '5553957443'\n16. '5577150313'\n17. '6117666160'\n18. '6775888955'\n19. '6962181067'\n20. '7007744171'\n21. '7086361926'\n22. '8053475328'\n23. '8378563200'\n24. '8792009665'\n\n\n",
            "text/latex": "\\begin{enumerate*}\n\\item '1503960366'\n\\item '1644430081'\n\\item '1844505072'\n\\item '1927972279'\n\\item '2026352035'\n\\item '2320127002'\n\\item '2347167796'\n\\item '3977333714'\n\\item '4020332650'\n\\item '4319703577'\n\\item '4388161847'\n\\item '4445114986'\n\\item '4558609924'\n\\item '4702921684'\n\\item '5553957443'\n\\item '5577150313'\n\\item '6117666160'\n\\item '6775888955'\n\\item '6962181067'\n\\item '7007744171'\n\\item '7086361926'\n\\item '8053475328'\n\\item '8378563200'\n\\item '8792009665'\n\\end{enumerate*}\n",
            "text/plain": [
              " [1] \"1503960366\" \"1644430081\" \"1844505072\" \"1927972279\" \"2026352035\"\n",
              " [6] \"2320127002\" \"2347167796\" \"3977333714\" \"4020332650\" \"4319703577\"\n",
              "[11] \"4388161847\" \"4445114986\" \"4558609924\" \"4702921684\" \"5553957443\"\n",
              "[16] \"5577150313\" \"6117666160\" \"6775888955\" \"6962181067\" \"7007744171\"\n",
              "[21] \"7086361926\" \"8053475328\" \"8378563200\" \"8792009665\""
            ]
          },
          "metadata": {}
        },
        {
          "output_type": "display_data",
          "data": {
            "text/html": [
              "24"
            ],
            "text/markdown": "24",
            "text/latex": "24",
            "text/plain": [
              "[1] 24"
            ]
          },
          "metadata": {}
        },
        {
          "output_type": "stream",
          "name": "stdout",
          "text": [
            "[1] \"Unique daily_activity\"\n"
          ]
        },
        {
          "output_type": "display_data",
          "data": {
            "text/html": [
              "<style>\n",
              ".list-inline {list-style: none; margin:0; padding: 0}\n",
              ".list-inline>li {display: inline-block}\n",
              ".list-inline>li:not(:last-child)::after {content: \"\\00b7\"; padding: 0 .5ex}\n",
              "</style>\n",
              "<ol class=list-inline><li>'1503960366'</li><li>'1624580081'</li><li>'1644430081'</li><li>'1844505072'</li><li>'1927972279'</li><li>'2022484408'</li><li>'2026352035'</li><li>'2320127002'</li><li>'2347167796'</li><li>'2873212765'</li><li>'3372868164'</li><li>'3977333714'</li><li>'4020332650'</li><li>'4057192912'</li><li>'4319703577'</li><li>'4388161847'</li><li>'4445114986'</li><li>'4558609924'</li><li>'4702921684'</li><li>'5553957443'</li><li>'5577150313'</li><li>'6117666160'</li><li>'6290855005'</li><li>'6775888955'</li><li>'6962181067'</li><li>'7007744171'</li><li>'7086361926'</li><li>'8053475328'</li><li>'8253242879'</li><li>'8378563200'</li><li>'8583815059'</li><li>'8792009665'</li><li>'8877689391'</li></ol>\n"
            ],
            "text/markdown": "1. '1503960366'\n2. '1624580081'\n3. '1644430081'\n4. '1844505072'\n5. '1927972279'\n6. '2022484408'\n7. '2026352035'\n8. '2320127002'\n9. '2347167796'\n10. '2873212765'\n11. '3372868164'\n12. '3977333714'\n13. '4020332650'\n14. '4057192912'\n15. '4319703577'\n16. '4388161847'\n17. '4445114986'\n18. '4558609924'\n19. '4702921684'\n20. '5553957443'\n21. '5577150313'\n22. '6117666160'\n23. '6290855005'\n24. '6775888955'\n25. '6962181067'\n26. '7007744171'\n27. '7086361926'\n28. '8053475328'\n29. '8253242879'\n30. '8378563200'\n31. '8583815059'\n32. '8792009665'\n33. '8877689391'\n\n\n",
            "text/latex": "\\begin{enumerate*}\n\\item '1503960366'\n\\item '1624580081'\n\\item '1644430081'\n\\item '1844505072'\n\\item '1927972279'\n\\item '2022484408'\n\\item '2026352035'\n\\item '2320127002'\n\\item '2347167796'\n\\item '2873212765'\n\\item '3372868164'\n\\item '3977333714'\n\\item '4020332650'\n\\item '4057192912'\n\\item '4319703577'\n\\item '4388161847'\n\\item '4445114986'\n\\item '4558609924'\n\\item '4702921684'\n\\item '5553957443'\n\\item '5577150313'\n\\item '6117666160'\n\\item '6290855005'\n\\item '6775888955'\n\\item '6962181067'\n\\item '7007744171'\n\\item '7086361926'\n\\item '8053475328'\n\\item '8253242879'\n\\item '8378563200'\n\\item '8583815059'\n\\item '8792009665'\n\\item '8877689391'\n\\end{enumerate*}\n",
            "text/plain": [
              " [1] \"1503960366\" \"1624580081\" \"1644430081\" \"1844505072\" \"1927972279\"\n",
              " [6] \"2022484408\" \"2026352035\" \"2320127002\" \"2347167796\" \"2873212765\"\n",
              "[11] \"3372868164\" \"3977333714\" \"4020332650\" \"4057192912\" \"4319703577\"\n",
              "[16] \"4388161847\" \"4445114986\" \"4558609924\" \"4702921684\" \"5553957443\"\n",
              "[21] \"5577150313\" \"6117666160\" \"6290855005\" \"6775888955\" \"6962181067\"\n",
              "[26] \"7007744171\" \"7086361926\" \"8053475328\" \"8253242879\" \"8378563200\"\n",
              "[31] \"8583815059\" \"8792009665\" \"8877689391\""
            ]
          },
          "metadata": {}
        },
        {
          "output_type": "display_data",
          "data": {
            "text/html": [
              "33"
            ],
            "text/markdown": "33",
            "text/latex": "33",
            "text/plain": [
              "[1] 33"
            ]
          },
          "metadata": {}
        },
        {
          "output_type": "stream",
          "name": "stdout",
          "text": [
            "[1] \"Unique hour_calories\"\n"
          ]
        },
        {
          "output_type": "display_data",
          "data": {
            "text/html": [
              "<style>\n",
              ".list-inline {list-style: none; margin:0; padding: 0}\n",
              ".list-inline>li {display: inline-block}\n",
              ".list-inline>li:not(:last-child)::after {content: \"\\00b7\"; padding: 0 .5ex}\n",
              "</style>\n",
              "<ol class=list-inline><li>'1503960366'</li><li>'1624580081'</li><li>'1644430081'</li><li>'1844505072'</li><li>'1927972279'</li><li>'2022484408'</li><li>'2026352035'</li><li>'2320127002'</li><li>'2347167796'</li><li>'2873212765'</li><li>'3372868164'</li><li>'3977333714'</li><li>'4020332650'</li><li>'4057192912'</li><li>'4319703577'</li><li>'4388161847'</li><li>'4445114986'</li><li>'4558609924'</li><li>'4702921684'</li><li>'5553957443'</li><li>'5577150313'</li><li>'6117666160'</li><li>'6290855005'</li><li>'6775888955'</li><li>'6962181067'</li><li>'7007744171'</li><li>'7086361926'</li><li>'8053475328'</li><li>'8253242879'</li><li>'8378563200'</li><li>'8583815059'</li><li>'8792009665'</li><li>'8877689391'</li></ol>\n"
            ],
            "text/markdown": "1. '1503960366'\n2. '1624580081'\n3. '1644430081'\n4. '1844505072'\n5. '1927972279'\n6. '2022484408'\n7. '2026352035'\n8. '2320127002'\n9. '2347167796'\n10. '2873212765'\n11. '3372868164'\n12. '3977333714'\n13. '4020332650'\n14. '4057192912'\n15. '4319703577'\n16. '4388161847'\n17. '4445114986'\n18. '4558609924'\n19. '4702921684'\n20. '5553957443'\n21. '5577150313'\n22. '6117666160'\n23. '6290855005'\n24. '6775888955'\n25. '6962181067'\n26. '7007744171'\n27. '7086361926'\n28. '8053475328'\n29. '8253242879'\n30. '8378563200'\n31. '8583815059'\n32. '8792009665'\n33. '8877689391'\n\n\n",
            "text/latex": "\\begin{enumerate*}\n\\item '1503960366'\n\\item '1624580081'\n\\item '1644430081'\n\\item '1844505072'\n\\item '1927972279'\n\\item '2022484408'\n\\item '2026352035'\n\\item '2320127002'\n\\item '2347167796'\n\\item '2873212765'\n\\item '3372868164'\n\\item '3977333714'\n\\item '4020332650'\n\\item '4057192912'\n\\item '4319703577'\n\\item '4388161847'\n\\item '4445114986'\n\\item '4558609924'\n\\item '4702921684'\n\\item '5553957443'\n\\item '5577150313'\n\\item '6117666160'\n\\item '6290855005'\n\\item '6775888955'\n\\item '6962181067'\n\\item '7007744171'\n\\item '7086361926'\n\\item '8053475328'\n\\item '8253242879'\n\\item '8378563200'\n\\item '8583815059'\n\\item '8792009665'\n\\item '8877689391'\n\\end{enumerate*}\n",
            "text/plain": [
              " [1] \"1503960366\" \"1624580081\" \"1644430081\" \"1844505072\" \"1927972279\"\n",
              " [6] \"2022484408\" \"2026352035\" \"2320127002\" \"2347167796\" \"2873212765\"\n",
              "[11] \"3372868164\" \"3977333714\" \"4020332650\" \"4057192912\" \"4319703577\"\n",
              "[16] \"4388161847\" \"4445114986\" \"4558609924\" \"4702921684\" \"5553957443\"\n",
              "[21] \"5577150313\" \"6117666160\" \"6290855005\" \"6775888955\" \"6962181067\"\n",
              "[26] \"7007744171\" \"7086361926\" \"8053475328\" \"8253242879\" \"8378563200\"\n",
              "[31] \"8583815059\" \"8792009665\" \"8877689391\""
            ]
          },
          "metadata": {}
        },
        {
          "output_type": "display_data",
          "data": {
            "text/html": [
              "33"
            ],
            "text/markdown": "33",
            "text/latex": "33",
            "text/plain": [
              "[1] 33"
            ]
          },
          "metadata": {}
        }
      ]
    },
    {
      "cell_type": "markdown",
      "source": [
        "Insights:\n",
        "*   sleep_day = 24 unique ID's\n",
        "*   daily_activity = 33 unique ID's\n",
        "*   hour_calories = 33 unique ID's\n",
        "\n",
        "they all match except for sleep_day that doesn't all ID's\n",
        "\n",
        "\n",
        "\n",
        "\n"
      ],
      "metadata": {
        "id": "32DIwj83Xn38"
      }
    },
    {
      "cell_type": "markdown",
      "source": [
        "## **STEP 4:** Analysis"
      ],
      "metadata": {
        "id": "zXpDJG6iJhWc"
      }
    },
    {
      "cell_type": "code",
      "source": [
        "cat(\"The average of sleeping time : \", mean(sleep_data$sleeping),\"\\n\")\n",
        "cat(\"The average of time in bed: \" ,mean(sleep_data$in_bed),\"\\n\")\n",
        "cat(\"The average burning calories/daily: \",mean(daily_activity$calories),\"\\n\")\n",
        "cat(\"The average of sedentaty time: \",mean(daily_activity$sedentary_minutes),\"\\n\")\n",
        "cat(\"The average of active time: \",mean(daily_activity$very_active_minutes+daily_activity$fairly_active_minutes))"
      ],
      "metadata": {
        "id": "9XRHGm7ilX4M",
        "colab": {
          "base_uri": "https://localhost:8080/"
        },
        "outputId": "6f022b0c-59be-4d5f-f6dd-4de01ee36b57"
      },
      "execution_count": 18,
      "outputs": [
        {
          "output_type": "stream",
          "name": "stdout",
          "text": [
            "The average of sleeping time :  6.98622 \n",
            "The average of time in bed:  7.641382 \n",
            "The average burning calories/daily:  2303.61 \n",
            "The average of sedentaty time:  991.2106 \n",
            "The average of active time:  34.72979"
          ]
        }
      ]
    },
    {
      "cell_type": "markdown",
      "source": [
        "#*Insight 1:*\n",
        "\n",
        "\n",
        "*   Users spend 1h more in bed then sleeping, that is normal, since people usually takes time to go to sleep because of insomnia or other motives, or likes to spend some time in bed before getting up in the morning.\n",
        "*   The active time and sedentary time it's very worrying, since it's almost 30 times more sedentary time then active.\n",
        "\n",
        "\n"
      ],
      "metadata": {
        "id": "lchrAY31d0dq"
      }
    },
    {
      "cell_type": "markdown",
      "source": [
        "average of total steps and calories by user"
      ],
      "metadata": {
        "id": "S2LTkgVWoOpa"
      }
    },
    {
      "cell_type": "code",
      "source": [
        "aggregate(cbind(total_steps, calories)~id,daily_activity, mean)"
      ],
      "metadata": {
        "id": "fAnp7qELoFn3",
        "colab": {
          "base_uri": "https://localhost:8080/",
          "height": 1000
        },
        "outputId": "bbea9c43-b38a-4548-e57a-64f53c8be594"
      },
      "execution_count": 19,
      "outputs": [
        {
          "output_type": "display_data",
          "data": {
            "text/html": [
              "<table class=\"dataframe\">\n",
              "<caption>A data.frame: 33 × 3</caption>\n",
              "<thead>\n",
              "\t<tr><th scope=col>id</th><th scope=col>total_steps</th><th scope=col>calories</th></tr>\n",
              "\t<tr><th scope=col>&lt;chr&gt;</th><th scope=col>&lt;dbl&gt;</th><th scope=col>&lt;dbl&gt;</th></tr>\n",
              "</thead>\n",
              "<tbody>\n",
              "\t<tr><td>1503960366</td><td>12116.742</td><td>1816.419</td></tr>\n",
              "\t<tr><td>1624580081</td><td> 5743.903</td><td>1483.355</td></tr>\n",
              "\t<tr><td>1644430081</td><td> 7282.967</td><td>2811.300</td></tr>\n",
              "\t<tr><td>1844505072</td><td> 2580.065</td><td>1573.484</td></tr>\n",
              "\t<tr><td>1927972279</td><td>  916.129</td><td>2172.806</td></tr>\n",
              "\t<tr><td>2022484408</td><td>11370.645</td><td>2509.968</td></tr>\n",
              "\t<tr><td>2026352035</td><td> 5566.871</td><td>1540.645</td></tr>\n",
              "\t<tr><td>2320127002</td><td> 4716.871</td><td>1724.161</td></tr>\n",
              "\t<tr><td>2347167796</td><td> 9519.667</td><td>2043.444</td></tr>\n",
              "\t<tr><td>2873212765</td><td> 7555.774</td><td>1916.968</td></tr>\n",
              "\t<tr><td>3372868164</td><td> 6861.650</td><td>1933.100</td></tr>\n",
              "\t<tr><td>3977333714</td><td>10984.567</td><td>1513.667</td></tr>\n",
              "\t<tr><td>4020332650</td><td> 2267.226</td><td>2385.806</td></tr>\n",
              "\t<tr><td>4057192912</td><td> 3838.000</td><td>1973.750</td></tr>\n",
              "\t<tr><td>4319703577</td><td> 7268.839</td><td>2037.677</td></tr>\n",
              "\t<tr><td>4388161847</td><td>10813.935</td><td>3093.871</td></tr>\n",
              "\t<tr><td>4445114986</td><td> 4796.548</td><td>2186.194</td></tr>\n",
              "\t<tr><td>4558609924</td><td> 7685.129</td><td>2033.258</td></tr>\n",
              "\t<tr><td>4702921684</td><td> 8572.065</td><td>2965.548</td></tr>\n",
              "\t<tr><td>5553957443</td><td> 8612.581</td><td>1875.677</td></tr>\n",
              "\t<tr><td>5577150313</td><td> 8304.433</td><td>3359.633</td></tr>\n",
              "\t<tr><td>6117666160</td><td> 7046.714</td><td>2261.143</td></tr>\n",
              "\t<tr><td>6290855005</td><td> 5649.552</td><td>2599.621</td></tr>\n",
              "\t<tr><td>6775888955</td><td> 2519.692</td><td>2131.769</td></tr>\n",
              "\t<tr><td>6962181067</td><td> 9794.806</td><td>1982.032</td></tr>\n",
              "\t<tr><td>7007744171</td><td>11323.423</td><td>2544.000</td></tr>\n",
              "\t<tr><td>7086361926</td><td> 9371.774</td><td>2566.355</td></tr>\n",
              "\t<tr><td>8053475328</td><td>14763.290</td><td>2945.806</td></tr>\n",
              "\t<tr><td>8253242879</td><td> 6482.158</td><td>1788.000</td></tr>\n",
              "\t<tr><td>8378563200</td><td> 8717.710</td><td>3436.581</td></tr>\n",
              "\t<tr><td>8583815059</td><td> 7198.516</td><td>2732.032</td></tr>\n",
              "\t<tr><td>8792009665</td><td> 1853.724</td><td>1962.310</td></tr>\n",
              "\t<tr><td>8877689391</td><td>16040.032</td><td>3420.258</td></tr>\n",
              "</tbody>\n",
              "</table>\n"
            ],
            "text/markdown": "\nA data.frame: 33 × 3\n\n| id &lt;chr&gt; | total_steps &lt;dbl&gt; | calories &lt;dbl&gt; |\n|---|---|---|\n| 1503960366 | 12116.742 | 1816.419 |\n| 1624580081 |  5743.903 | 1483.355 |\n| 1644430081 |  7282.967 | 2811.300 |\n| 1844505072 |  2580.065 | 1573.484 |\n| 1927972279 |   916.129 | 2172.806 |\n| 2022484408 | 11370.645 | 2509.968 |\n| 2026352035 |  5566.871 | 1540.645 |\n| 2320127002 |  4716.871 | 1724.161 |\n| 2347167796 |  9519.667 | 2043.444 |\n| 2873212765 |  7555.774 | 1916.968 |\n| 3372868164 |  6861.650 | 1933.100 |\n| 3977333714 | 10984.567 | 1513.667 |\n| 4020332650 |  2267.226 | 2385.806 |\n| 4057192912 |  3838.000 | 1973.750 |\n| 4319703577 |  7268.839 | 2037.677 |\n| 4388161847 | 10813.935 | 3093.871 |\n| 4445114986 |  4796.548 | 2186.194 |\n| 4558609924 |  7685.129 | 2033.258 |\n| 4702921684 |  8572.065 | 2965.548 |\n| 5553957443 |  8612.581 | 1875.677 |\n| 5577150313 |  8304.433 | 3359.633 |\n| 6117666160 |  7046.714 | 2261.143 |\n| 6290855005 |  5649.552 | 2599.621 |\n| 6775888955 |  2519.692 | 2131.769 |\n| 6962181067 |  9794.806 | 1982.032 |\n| 7007744171 | 11323.423 | 2544.000 |\n| 7086361926 |  9371.774 | 2566.355 |\n| 8053475328 | 14763.290 | 2945.806 |\n| 8253242879 |  6482.158 | 1788.000 |\n| 8378563200 |  8717.710 | 3436.581 |\n| 8583815059 |  7198.516 | 2732.032 |\n| 8792009665 |  1853.724 | 1962.310 |\n| 8877689391 | 16040.032 | 3420.258 |\n\n",
            "text/latex": "A data.frame: 33 × 3\n\\begin{tabular}{lll}\n id & total\\_steps & calories\\\\\n <chr> & <dbl> & <dbl>\\\\\n\\hline\n\t 1503960366 & 12116.742 & 1816.419\\\\\n\t 1624580081 &  5743.903 & 1483.355\\\\\n\t 1644430081 &  7282.967 & 2811.300\\\\\n\t 1844505072 &  2580.065 & 1573.484\\\\\n\t 1927972279 &   916.129 & 2172.806\\\\\n\t 2022484408 & 11370.645 & 2509.968\\\\\n\t 2026352035 &  5566.871 & 1540.645\\\\\n\t 2320127002 &  4716.871 & 1724.161\\\\\n\t 2347167796 &  9519.667 & 2043.444\\\\\n\t 2873212765 &  7555.774 & 1916.968\\\\\n\t 3372868164 &  6861.650 & 1933.100\\\\\n\t 3977333714 & 10984.567 & 1513.667\\\\\n\t 4020332650 &  2267.226 & 2385.806\\\\\n\t 4057192912 &  3838.000 & 1973.750\\\\\n\t 4319703577 &  7268.839 & 2037.677\\\\\n\t 4388161847 & 10813.935 & 3093.871\\\\\n\t 4445114986 &  4796.548 & 2186.194\\\\\n\t 4558609924 &  7685.129 & 2033.258\\\\\n\t 4702921684 &  8572.065 & 2965.548\\\\\n\t 5553957443 &  8612.581 & 1875.677\\\\\n\t 5577150313 &  8304.433 & 3359.633\\\\\n\t 6117666160 &  7046.714 & 2261.143\\\\\n\t 6290855005 &  5649.552 & 2599.621\\\\\n\t 6775888955 &  2519.692 & 2131.769\\\\\n\t 6962181067 &  9794.806 & 1982.032\\\\\n\t 7007744171 & 11323.423 & 2544.000\\\\\n\t 7086361926 &  9371.774 & 2566.355\\\\\n\t 8053475328 & 14763.290 & 2945.806\\\\\n\t 8253242879 &  6482.158 & 1788.000\\\\\n\t 8378563200 &  8717.710 & 3436.581\\\\\n\t 8583815059 &  7198.516 & 2732.032\\\\\n\t 8792009665 &  1853.724 & 1962.310\\\\\n\t 8877689391 & 16040.032 & 3420.258\\\\\n\\end{tabular}\n",
            "text/plain": [
              "   id         total_steps calories\n",
              "1  1503960366 12116.742   1816.419\n",
              "2  1624580081  5743.903   1483.355\n",
              "3  1644430081  7282.967   2811.300\n",
              "4  1844505072  2580.065   1573.484\n",
              "5  1927972279   916.129   2172.806\n",
              "6  2022484408 11370.645   2509.968\n",
              "7  2026352035  5566.871   1540.645\n",
              "8  2320127002  4716.871   1724.161\n",
              "9  2347167796  9519.667   2043.444\n",
              "10 2873212765  7555.774   1916.968\n",
              "11 3372868164  6861.650   1933.100\n",
              "12 3977333714 10984.567   1513.667\n",
              "13 4020332650  2267.226   2385.806\n",
              "14 4057192912  3838.000   1973.750\n",
              "15 4319703577  7268.839   2037.677\n",
              "16 4388161847 10813.935   3093.871\n",
              "17 4445114986  4796.548   2186.194\n",
              "18 4558609924  7685.129   2033.258\n",
              "19 4702921684  8572.065   2965.548\n",
              "20 5553957443  8612.581   1875.677\n",
              "21 5577150313  8304.433   3359.633\n",
              "22 6117666160  7046.714   2261.143\n",
              "23 6290855005  5649.552   2599.621\n",
              "24 6775888955  2519.692   2131.769\n",
              "25 6962181067  9794.806   1982.032\n",
              "26 7007744171 11323.423   2544.000\n",
              "27 7086361926  9371.774   2566.355\n",
              "28 8053475328 14763.290   2945.806\n",
              "29 8253242879  6482.158   1788.000\n",
              "30 8378563200  8717.710   3436.581\n",
              "31 8583815059  7198.516   2732.032\n",
              "32 8792009665  1853.724   1962.310\n",
              "33 8877689391 16040.032   3420.258"
            ]
          },
          "metadata": {}
        }
      ]
    },
    {
      "cell_type": "code",
      "source": [
        "mean(daily_activity$total_steps)\n",
        "mean(daily_activity$calories)"
      ],
      "metadata": {
        "colab": {
          "base_uri": "https://localhost:8080/",
          "height": 52
        },
        "id": "-UCfPXTvowsG",
        "outputId": "8ad41d62-0e64-4aaa-a479-3bba952282c4"
      },
      "execution_count": 20,
      "outputs": [
        {
          "output_type": "display_data",
          "data": {
            "text/html": [
              "7637.91063829787"
            ],
            "text/markdown": "7637.91063829787",
            "text/latex": "7637.91063829787",
            "text/plain": [
              "[1] 7637.911"
            ]
          },
          "metadata": {}
        },
        {
          "output_type": "display_data",
          "data": {
            "text/html": [
              "2303.60957446809"
            ],
            "text/markdown": "2303.60957446809",
            "text/latex": "2303.60957446809",
            "text/plain": [
              "[1] 2303.61"
            ]
          },
          "metadata": {}
        }
      ]
    },
    {
      "cell_type": "markdown",
      "source": [
        "#*Insight 2:*\n",
        "\n",
        "\n",
        "\n",
        "*   The CDC recommend that most adults aim for 10,000 steps per day.\n",
        "*   As we can see in our analysis only a few reach the recommended steps and users are around 2.500 steps behind the recommendation\n",
        "\n",
        "#*Insight 3*\n",
        "\n",
        "\n",
        "\n",
        "*   Adults need from 1,600 - 3,000 calories per day\n",
        "*   As we can see the users are burning calories as expected on their daily activities\n",
        "\n",
        "\n",
        "\n",
        "\n"
      ],
      "metadata": {
        "id": "tNoJBuq-fYj3"
      }
    },
    {
      "cell_type": "markdown",
      "source": [
        "now the average calories thats is burned by hour\n",
        "\n"
      ],
      "metadata": {
        "id": "y4SszJfwRlpN"
      }
    },
    {
      "cell_type": "code",
      "source": [
        "hour_calories <- hour_calories %>%\n",
        "  mutate(burning_calories_time = hour(date))\n",
        "\n",
        "mean(hour_calories$burning_calories_time)"
      ],
      "metadata": {
        "colab": {
          "base_uri": "https://localhost:8080/",
          "height": 34
        },
        "id": "8nVufZbJyFbi",
        "outputId": "27711491-6db4-4d6e-9340-0f3071472d55"
      },
      "execution_count": 21,
      "outputs": [
        {
          "output_type": "display_data",
          "data": {
            "text/html": [
              "11.4157654192497"
            ],
            "text/markdown": "11.4157654192497",
            "text/latex": "11.4157654192497",
            "text/plain": [
              "[1] 11.41577"
            ]
          },
          "metadata": {}
        }
      ]
    },
    {
      "cell_type": "markdown",
      "source": [
        "Now lets see the average steps by user, and if they reach the recommended 10.000 steps"
      ],
      "metadata": {
        "id": "zjRD5tS84DdB"
      }
    },
    {
      "cell_type": "code",
      "source": [
        "# Convert id column to factor\n",
        "daily_activity$id <- as.factor(daily_activity$id)\n",
        "\n",
        "# Your ggplot code with changes\n",
        "ggplot(daily_activity, aes(x = id, y = total_steps)) +\n",
        "  geom_bar(stat = \"identity\", fill = \"blue\", position = position_dodge(width = 0.5)) +\n",
        "  labs(title = \"Average Steps by User\", x = \"user\", y = \"steps\") +\n",
        "  geom_hline(yintercept = 10000) +\n",
        "  theme(axis.text.x = element_text(angle = 40, hjust = 1)) +\n",
        "  scale_x_discrete(labels = 1:33)"
      ],
      "metadata": {
        "colab": {
          "base_uri": "https://localhost:8080/",
          "height": 437
        },
        "id": "fRm0FvkSpYeb",
        "outputId": "9a9598ea-0619-4022-bc9f-e6b3e150ddad"
      },
      "execution_count": 22,
      "outputs": [
        {
          "output_type": "display_data",
          "data": {
            "text/plain": [
              "plot without title"
            ],
            "image/png": "[encoded data removed]"
          },
          "metadata": {
            "image/png": {
              "width": 420,
              "height": 420
            }
          }
        }
      ]
    },
    {
      "cell_type": "markdown",
      "source": [
        "# *Insight 4:*\n",
        "\n",
        "As the graphic shows us, there are people below the recommended steps and people that reach them and others that go further.\n"
      ],
      "metadata": {
        "id": "MhmiZeithMrh"
      }
    },
    {
      "cell_type": "markdown",
      "source": [
        "Let's see the relationship between the sendetary minutes and the total steps, to see if our users are more active or sendentarys"
      ],
      "metadata": {
        "id": "rGXxFdBwWToj"
      }
    },
    {
      "cell_type": "code",
      "source": [
        "ggplot(daily_activity, aes(x=total_steps, y=sedentary_minutes)) +\n",
        "  geom_smooth() +\n",
        "    labs(title=\"Total Steps vs. Sedentary Minutes\")"
      ],
      "metadata": {
        "colab": {
          "base_uri": "https://localhost:8080/",
          "height": 454
        },
        "id": "-BOItoNN_8GS",
        "outputId": "f68bb0e5-01a9-4399-a5f5-05ad8f4dbc30"
      },
      "execution_count": 23,
      "outputs": [
        {
          "output_type": "stream",
          "name": "stderr",
          "text": [
            "\u001b[1m\u001b[22m`geom_smooth()` using method = 'loess' and formula = 'y ~ x'\n"
          ]
        },
        {
          "output_type": "display_data",
          "data": {
            "text/plain": [
              "plot without title"
            ],
            "image/png": "[encoded data removed]"
          },
          "metadata": {
            "image/png": {
              "width": 420,
              "height": 420
            }
          }
        }
      ]
    },
    {
      "cell_type": "markdown",
      "source": [
        "# *Insight 5:*\n",
        "As mentioned before, when user has more steps, they will likely to have less sedentary minutes.\n",
        "In the other hand, when the user has more sedentary minutes, it's more likely that will have less steps"
      ],
      "metadata": {
        "id": "rhL-HV30iW4G"
      }
    },
    {
      "cell_type": "markdown",
      "source": [
        "Now lets see the relationship between time in bed and sleeping"
      ],
      "metadata": {
        "id": "HgalFd4XjVyV"
      }
    },
    {
      "cell_type": "code",
      "source": [
        "ggplot(data=sleep_data, mapping = aes(x=sleeping, y=in_bed)) +\n",
        "  geom_smooth() +\n",
        "  geom_jitter() +\n",
        "  geom_hline(yintercept = 7) +\n",
        "  labs(title = \"Total time in bed vs. Total time asleep\", x= \"Time asleep\", y=\"Time in bed\")"
      ],
      "metadata": {
        "colab": {
          "base_uri": "https://localhost:8080/",
          "height": 454
        },
        "id": "qMfGn7rNja0h",
        "outputId": "903c60cc-4f35-4eff-a237-b0871d84f93e"
      },
      "execution_count": 24,
      "outputs": [
        {
          "output_type": "stream",
          "name": "stderr",
          "text": [
            "\u001b[1m\u001b[22m`geom_smooth()` using method = 'loess' and formula = 'y ~ x'\n"
          ]
        },
        {
          "output_type": "display_data",
          "data": {
            "text/plain": [
              "plot without title"
            ],
            "image/png": "[encoded data removed]"
          },
          "metadata": {
            "image/png": {
              "width": 420,
              "height": 420
            }
          }
        }
      ]
    },
    {
      "cell_type": "markdown",
      "source": [
        "# *Insight 6:*\n",
        "Most users are sleeping the 7 hours recommended"
      ],
      "metadata": {
        "id": "2RAdyOrHk6bt"
      }
    },
    {
      "cell_type": "markdown",
      "source": [
        "Relationship between steps vs. calories"
      ],
      "metadata": {
        "id": "Av6lbMeDlQWV"
      }
    },
    {
      "cell_type": "markdown",
      "source": [
        "#Conclusion:\n",
        "\n",
        "\n",
        "\n",
        "*   As we saw in previous insights the users usually get the recommended 7h sleeps\n",
        "*   They also reach the recommended 10.000 steps per day\n",
        "\n",
        "*   But still they are now having a healthy fitness life, they spend too much sedentary time\n",
        "\n",
        "#Recommendation:\n",
        "\n",
        "\n",
        "\n",
        "*   People like rewards in theis apps, so put a daily goal, weekly and monthly, so when the goal it's achieved, the user gain points and can exchange inside the app.\n",
        "Since the app also sells tangible items, it could sell some smaller items with discounts when using their points, or if the user has the same ammount of points to buy the product, it could exchange the points for the free product only paying the delivery tax.\n",
        "*   Recipies for woman that are looking for loosing weight or maintain a diet, and tips of foods and healthy quick-meals\n",
        "*   Notification when its time to go to bed\n",
        "*   White noise in the app to help users to sleep better\n",
        "*   Control of calories consumption\n",
        "*   Activity tips for inside or outside/gym activities\n",
        "\n",
        "#Target:\n",
        "Woman's that are willing to change how their diet and how do more healthy activities.\n",
        "\n",
        "\n",
        "\n"
      ],
      "metadata": {
        "id": "UnzmlVX1sE5D"
      }
    }
  ]
}