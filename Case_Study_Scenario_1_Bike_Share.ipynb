{
  "nbformat": 4,
  "nbformat_minor": 0,
  "metadata": {
    "colab": {
      "provenance": []
    },
    "kernelspec": {
      "name": "ir",
      "display_name": "R"
    },
    "language_info": {
      "name": "R"
    }
  },
  "cells": [
    {
      "cell_type": "markdown",
      "source": [
        "# **Case Study: How Does a Bike-Share Navigate Speedy Success?**\n"
      ],
      "metadata": {
        "id": "9fzSPXafdbBw"
      }
    },
    {
      "cell_type": "markdown",
      "source": [
        "## **Scenario:**\n",
        "#### The director of marketing believes the company’s future success depends on maximizing the number of annual memberships. Therefore, your team wants to understand how casual riders and annual members use Cyclistic bikes differently."
      ],
      "metadata": {
        "id": "4vfi9_Whd4sr"
      }
    },
    {
      "cell_type": "markdown",
      "source": [
        "**About the company:**\n",
        "\n",
        "In 2016, Cyclistic launched a successful bike-share offering. Since then, the program has grown to a fleet of 5,824 bicycles that are geotracked and locked into a network of 692 stations across Chicago. The bikes can be unlocked from one station and returned to any other station in the system anytime.\n",
        "\n",
        "Until now, Cyclistic’s marketing strategy relied on building general awareness and appealing to broad consumer segments. One approach that helped make these things possible was the flexibility of its pricing plans: single-ride passes, full-day passes, and annual memberships. Customers who purchase single-ride or full-day passes are referred to as casual riders. Customers who purchase annual memberships are Cyclistic members.\n",
        "\n",
        "Cyclistic’s finance analysts have concluded that annual members are much more profitable than casual riders. Although the pricing flexibility helps Cyclistic attract more customers, Moreno believes that maximizing the number of annual members will be key to future growth. Rather than creating a marketing campaign that targets all-new customers, Moreno believes there is a very good chance to convert casual riders into members. She notes that casual riders are already aware of the Cyclistic program and have chosen Cyclistic for their mobility needs.\n",
        "\n",
        "Moreno has set a clear goal: Design marketing strategies aimed at converting casual riders into annual members. In order to do that, however, the marketing analyst team needs to better understand how annual members and casual riders differ, why\n",
        "casual riders would buy a membership, and how digital media could affect their marketing tactics. Moreno and her team are interested in analyzing the Cyclistic historical bike trip data to identify trends."
      ],
      "metadata": {
        "id": "sPqjcQmFedBg"
      }
    },
    {
      "cell_type": "markdown",
      "source": [
        "## Ask\n",
        "Three questions will guide the future marketing program:\n",
        "1. How do annual members and casual riders use Cyclistic bikes differently?\n",
        "2. Why would casual riders buy Cyclistic annual memberships?\n",
        "3. How can Cyclistic use digital media to influence casual riders to become members?"
      ],
      "metadata": {
        "id": "B4bhLxlEqP7f"
      }
    },
    {
      "cell_type": "markdown",
      "source": [
        "**Moreno has assigned you the first question to answer: How do annual members and casual riders use Cyclistic bikes\n",
        "differently?**"
      ],
      "metadata": {
        "id": "gpJ5cV7KqjsT"
      }
    },
    {
      "cell_type": "markdown",
      "source": [
        "You will produce a report with the following deliverables:\n",
        "1. A clear statement of the business task\n",
        "2. A description of all data sources used\n",
        "3. Documentation of any cleaning or manipulation of data\n",
        "4. A summary of your analysis\n",
        "5. Supporting visualizations and key findings\n",
        "6. Your top three recommendations based on your analysis"
      ],
      "metadata": {
        "id": "Fv9ukbVwq5TB"
      }
    },
    {
      "cell_type": "markdown",
      "source": [
        "## Prepare\n",
        "You will use Cyclistic’s historical trip data to analyze and identify trends. Download the previous 12 months of Cyclistic trip data here. (Note: The datasets have a different name because Cyclistic is a fictional company. For the purposes of this case study, the datasets are appropriate and will enable you to answer the business questions. The data has been made available by\n",
        "Motivate International Inc. under this license.) This is public data that you can use to explore how different customer types are using Cyclistic bikes. But note that data-privacy issues prohibit you from using riders’ personally identifiable information. This means that you won’t be able to connect pass purchases to credit card numbers to determine if casual riders live in the\n",
        "Cyclistic service area or if they have purchased multiple single passes."
      ],
      "metadata": {
        "id": "nX9YrVuGR515"
      }
    },
    {
      "cell_type": "markdown",
      "source": [
        "## Analyze\n",
        "Now that your data is stored appropriately and has been prepared for analysis, start putting it to work."
      ],
      "metadata": {
        "id": "d1dT8wpSSJpT"
      }
    },
    {
      "cell_type": "markdown",
      "source": [
        "## **STEP 1:** installing packages:"
      ],
      "metadata": {
        "id": "qSfCD8uoraTo"
      }
    },
    {
      "cell_type": "code",
      "execution_count": null,
      "metadata": {
        "id": "HHPv-GBHUOxI"
      },
      "outputs": [],
      "source": [
        "install.packages(\"tidyverse\")\n",
        "install.packages(\"ggplot2\")\n",
        "install.packages(\"lubridate\")"
      ]
    },
    {
      "cell_type": "markdown",
      "source": [
        "librarys that is going to be needed:"
      ],
      "metadata": {
        "id": "kGbVW54xxA02"
      }
    },
    {
      "cell_type": "code",
      "source": [
        "library(tidyverse)\n",
        "library(ggplot2)\n",
        "library(lubridate)"
      ],
      "metadata": {
        "id": "sPuvLPTOq-30"
      },
      "execution_count": null,
      "outputs": []
    },
    {
      "cell_type": "markdown",
      "source": [
        "## **STEP 2:** collecting data"
      ],
      "metadata": {
        "id": "ravqjPZMrr9_"
      }
    },
    {
      "cell_type": "markdown",
      "source": [
        "importing data"
      ],
      "metadata": {
        "id": "7NQaBdR7xEuO"
      }
    },
    {
      "cell_type": "code",
      "source": [
        "bici_Q1 <- read.csv(\"Divvy_Trips_2019_Q1.csv\")\n",
        "bici_Q2 <- read.csv(\"Divvy_Trips_2019_Q2.csv\")\n",
        "bici_Q3 <- read.csv(\"Divvy_Trips_2019_Q3.csv\")\n",
        "bici_Q4 <- read.csv(\"Divvy_Trips_2019_Q4.csv\")"
      ],
      "metadata": {
        "id": "8ZQPI3SLrqeM"
      },
      "execution_count": 3,
      "outputs": []
    },
    {
      "cell_type": "markdown",
      "source": [
        "visualizing data"
      ],
      "metadata": {
        "id": "0E_6duOaxH-C"
      }
    },
    {
      "cell_type": "code",
      "source": [
        "print(\"column names Q1\")\n",
        "colnames(bici_Q1)\n",
        "print(\"column names Q2\")\n",
        "colnames(bici_Q2)\n",
        "print(\"column names Q3\")\n",
        "colnames(bici_Q3)\n",
        "print(\"column names Q4\")\n",
        "colnames(bici_Q4)"
      ],
      "metadata": {
        "id": "DsDdFKwtt_-3",
        "colab": {
          "base_uri": "https://localhost:8080/",
          "height": 191
        },
        "outputId": "87840afd-cbf1-4633-be68-4e929622fa08"
      },
      "execution_count": 4,
      "outputs": [
        {
          "output_type": "stream",
          "name": "stdout",
          "text": [
            "[1] \"column names Q1\"\n"
          ]
        },
        {
          "output_type": "display_data",
          "data": {
            "text/html": [
              "<style>\n",
              ".list-inline {list-style: none; margin:0; padding: 0}\n",
              ".list-inline>li {display: inline-block}\n",
              ".list-inline>li:not(:last-child)::after {content: \"\\00b7\"; padding: 0 .5ex}\n",
              "</style>\n",
              "<ol class=list-inline><li>'trip_id'</li><li>'start_time'</li><li>'end_time'</li><li>'bikeid'</li><li>'tripduration'</li><li>'from_station_id'</li><li>'from_station_name'</li><li>'to_station_id'</li><li>'to_station_name'</li><li>'usertype'</li><li>'gender'</li><li>'birthyear'</li></ol>\n"
            ],
            "text/markdown": "1. 'trip_id'\n2. 'start_time'\n3. 'end_time'\n4. 'bikeid'\n5. 'tripduration'\n6. 'from_station_id'\n7. 'from_station_name'\n8. 'to_station_id'\n9. 'to_station_name'\n10. 'usertype'\n11. 'gender'\n12. 'birthyear'\n\n\n",
            "text/latex": "\\begin{enumerate*}\n\\item 'trip\\_id'\n\\item 'start\\_time'\n\\item 'end\\_time'\n\\item 'bikeid'\n\\item 'tripduration'\n\\item 'from\\_station\\_id'\n\\item 'from\\_station\\_name'\n\\item 'to\\_station\\_id'\n\\item 'to\\_station\\_name'\n\\item 'usertype'\n\\item 'gender'\n\\item 'birthyear'\n\\end{enumerate*}\n",
            "text/plain": [
              " [1] \"trip_id\"           \"start_time\"        \"end_time\"         \n",
              " [4] \"bikeid\"            \"tripduration\"      \"from_station_id\"  \n",
              " [7] \"from_station_name\" \"to_station_id\"     \"to_station_name\"  \n",
              "[10] \"usertype\"          \"gender\"            \"birthyear\"        "
            ]
          },
          "metadata": {}
        },
        {
          "output_type": "stream",
          "name": "stdout",
          "text": [
            "[1] \"column names Q2\"\n"
          ]
        },
        {
          "output_type": "display_data",
          "data": {
            "text/html": [
              "<style>\n",
              ".list-inline {list-style: none; margin:0; padding: 0}\n",
              ".list-inline>li {display: inline-block}\n",
              ".list-inline>li:not(:last-child)::after {content: \"\\00b7\"; padding: 0 .5ex}\n",
              "</style>\n",
              "<ol class=list-inline><li>'X01...Rental.Details.Rental.ID'</li><li>'X01...Rental.Details.Local.Start.Time'</li><li>'X01...Rental.Details.Local.End.Time'</li><li>'X01...Rental.Details.Bike.ID'</li><li>'X01...Rental.Details.Duration.In.Seconds.Uncapped'</li><li>'X03...Rental.Start.Station.ID'</li><li>'X03...Rental.Start.Station.Name'</li><li>'X02...Rental.End.Station.ID'</li><li>'X02...Rental.End.Station.Name'</li><li>'User.Type'</li><li>'Member.Gender'</li><li>'X05...Member.Details.Member.Birthday.Year'</li></ol>\n"
            ],
            "text/markdown": "1. 'X01...Rental.Details.Rental.ID'\n2. 'X01...Rental.Details.Local.Start.Time'\n3. 'X01...Rental.Details.Local.End.Time'\n4. 'X01...Rental.Details.Bike.ID'\n5. 'X01...Rental.Details.Duration.In.Seconds.Uncapped'\n6. 'X03...Rental.Start.Station.ID'\n7. 'X03...Rental.Start.Station.Name'\n8. 'X02...Rental.End.Station.ID'\n9. 'X02...Rental.End.Station.Name'\n10. 'User.Type'\n11. 'Member.Gender'\n12. 'X05...Member.Details.Member.Birthday.Year'\n\n\n",
            "text/latex": "\\begin{enumerate*}\n\\item 'X01...Rental.Details.Rental.ID'\n\\item 'X01...Rental.Details.Local.Start.Time'\n\\item 'X01...Rental.Details.Local.End.Time'\n\\item 'X01...Rental.Details.Bike.ID'\n\\item 'X01...Rental.Details.Duration.In.Seconds.Uncapped'\n\\item 'X03...Rental.Start.Station.ID'\n\\item 'X03...Rental.Start.Station.Name'\n\\item 'X02...Rental.End.Station.ID'\n\\item 'X02...Rental.End.Station.Name'\n\\item 'User.Type'\n\\item 'Member.Gender'\n\\item 'X05...Member.Details.Member.Birthday.Year'\n\\end{enumerate*}\n",
            "text/plain": [
              " [1] \"X01...Rental.Details.Rental.ID\"                   \n",
              " [2] \"X01...Rental.Details.Local.Start.Time\"            \n",
              " [3] \"X01...Rental.Details.Local.End.Time\"              \n",
              " [4] \"X01...Rental.Details.Bike.ID\"                     \n",
              " [5] \"X01...Rental.Details.Duration.In.Seconds.Uncapped\"\n",
              " [6] \"X03...Rental.Start.Station.ID\"                    \n",
              " [7] \"X03...Rental.Start.Station.Name\"                  \n",
              " [8] \"X02...Rental.End.Station.ID\"                      \n",
              " [9] \"X02...Rental.End.Station.Name\"                    \n",
              "[10] \"User.Type\"                                        \n",
              "[11] \"Member.Gender\"                                    \n",
              "[12] \"X05...Member.Details.Member.Birthday.Year\"        "
            ]
          },
          "metadata": {}
        },
        {
          "output_type": "stream",
          "name": "stdout",
          "text": [
            "[1] \"column names Q3\"\n"
          ]
        },
        {
          "output_type": "display_data",
          "data": {
            "text/html": [
              "<style>\n",
              ".list-inline {list-style: none; margin:0; padding: 0}\n",
              ".list-inline>li {display: inline-block}\n",
              ".list-inline>li:not(:last-child)::after {content: \"\\00b7\"; padding: 0 .5ex}\n",
              "</style>\n",
              "<ol class=list-inline><li>'trip_id'</li><li>'start_time'</li><li>'end_time'</li><li>'bikeid'</li><li>'tripduration'</li><li>'from_station_id'</li><li>'from_station_name'</li><li>'to_station_id'</li><li>'to_station_name'</li><li>'usertype'</li><li>'gender'</li><li>'birthyear'</li></ol>\n"
            ],
            "text/markdown": "1. 'trip_id'\n2. 'start_time'\n3. 'end_time'\n4. 'bikeid'\n5. 'tripduration'\n6. 'from_station_id'\n7. 'from_station_name'\n8. 'to_station_id'\n9. 'to_station_name'\n10. 'usertype'\n11. 'gender'\n12. 'birthyear'\n\n\n",
            "text/latex": "\\begin{enumerate*}\n\\item 'trip\\_id'\n\\item 'start\\_time'\n\\item 'end\\_time'\n\\item 'bikeid'\n\\item 'tripduration'\n\\item 'from\\_station\\_id'\n\\item 'from\\_station\\_name'\n\\item 'to\\_station\\_id'\n\\item 'to\\_station\\_name'\n\\item 'usertype'\n\\item 'gender'\n\\item 'birthyear'\n\\end{enumerate*}\n",
            "text/plain": [
              " [1] \"trip_id\"           \"start_time\"        \"end_time\"         \n",
              " [4] \"bikeid\"            \"tripduration\"      \"from_station_id\"  \n",
              " [7] \"from_station_name\" \"to_station_id\"     \"to_station_name\"  \n",
              "[10] \"usertype\"          \"gender\"            \"birthyear\"        "
            ]
          },
          "metadata": {}
        },
        {
          "output_type": "stream",
          "name": "stdout",
          "text": [
            "[1] \"column names Q4\"\n"
          ]
        },
        {
          "output_type": "display_data",
          "data": {
            "text/html": [
              "<style>\n",
              ".list-inline {list-style: none; margin:0; padding: 0}\n",
              ".list-inline>li {display: inline-block}\n",
              ".list-inline>li:not(:last-child)::after {content: \"\\00b7\"; padding: 0 .5ex}\n",
              "</style>\n",
              "<ol class=list-inline><li>'trip_id'</li><li>'start_time'</li><li>'end_time'</li><li>'bikeid'</li><li>'tripduration'</li><li>'from_station_id'</li><li>'from_station_name'</li><li>'to_station_id'</li><li>'to_station_name'</li><li>'usertype'</li><li>'gender'</li><li>'birthyear'</li></ol>\n"
            ],
            "text/markdown": "1. 'trip_id'\n2. 'start_time'\n3. 'end_time'\n4. 'bikeid'\n5. 'tripduration'\n6. 'from_station_id'\n7. 'from_station_name'\n8. 'to_station_id'\n9. 'to_station_name'\n10. 'usertype'\n11. 'gender'\n12. 'birthyear'\n\n\n",
            "text/latex": "\\begin{enumerate*}\n\\item 'trip\\_id'\n\\item 'start\\_time'\n\\item 'end\\_time'\n\\item 'bikeid'\n\\item 'tripduration'\n\\item 'from\\_station\\_id'\n\\item 'from\\_station\\_name'\n\\item 'to\\_station\\_id'\n\\item 'to\\_station\\_name'\n\\item 'usertype'\n\\item 'gender'\n\\item 'birthyear'\n\\end{enumerate*}\n",
            "text/plain": [
              " [1] \"trip_id\"           \"start_time\"        \"end_time\"         \n",
              " [4] \"bikeid\"            \"tripduration\"      \"from_station_id\"  \n",
              " [7] \"from_station_name\" \"to_station_id\"     \"to_station_name\"  \n",
              "[10] \"usertype\"          \"gender\"            \"birthyear\"        "
            ]
          },
          "metadata": {}
        }
      ]
    },
    {
      "cell_type": "markdown",
      "source": [
        "### *As we can see, Q2 has different column names, we are going to fix that:*\n",
        "\n",
        "\n",
        "\n"
      ],
      "metadata": {
        "id": "JRIayjDAvFPR"
      }
    },
    {
      "cell_type": "markdown",
      "source": [
        "## **STEP 3:** transform data"
      ],
      "metadata": {
        "id": "RN9PaC5CvMzE"
      }
    },
    {
      "cell_type": "code",
      "source": [
        "(bici_Q1 <- rename(bici_Q1,\n",
        "                      ride_id = trip_id,\n",
        "                      bike_id = bikeid,\n",
        "                      trip_duration = tripduration,\n",
        "                      user_type = usertype))\n",
        "(bici_Q2 <- rename(bici_Q2,\n",
        "                     ride_id = X01...Rental.Details.Rental.ID,\n",
        "                     start_time = X01...Rental.Details.Local.Start.Time,\n",
        "                     end_time = X01...Rental.Details.Local.End.Time,\n",
        "                     bike_id = X01...Rental.Details.Bike.ID,\n",
        "                     trip_duration = X01...Rental.Details.Duration.In.Seconds.Uncapped,\n",
        "                     from_station_id = X03...Rental.Start.Station.ID,\n",
        "                     from_station_name = X03...Rental.Start.Station.Name,\n",
        "                     to_station_id = X02...Rental.End.Station.ID,\n",
        "                     to_station_name = X02...Rental.End.Station.Name,\n",
        "                     user_type = User.Type,\n",
        "                     gender = Member.Gender,\n",
        "                     birthyear = X05...Member.Details.Member.Birthday.Year))\n",
        "(bici_Q3 <- rename(bici_Q3,\n",
        "                      ride_id = trip_id,\n",
        "                      bike_id = bikeid,\n",
        "                      trip_duration = tripduration,\n",
        "                      user_type = usertype))\n",
        "(bici_Q4 <- rename(bici_Q4,\n",
        "                      ride_id = trip_id,\n",
        "                      bike_id = bikeid,\n",
        "                      trip_duration = tripduration,\n",
        "                      user_type = usertype))"
      ],
      "metadata": {
        "id": "KTZyf0WXvLty"
      },
      "execution_count": null,
      "outputs": []
    },
    {
      "cell_type": "markdown",
      "source": [
        "visualizing data to see if now they match\n",
        "\n",
        "\n"
      ],
      "metadata": {
        "id": "6auZS2tEw3Pb"
      }
    },
    {
      "cell_type": "code",
      "source": [
        "print(\"column names Q1\")\n",
        "colnames(bici_Q1)\n",
        "print(\"column names Q2\")\n",
        "colnames(bici_Q2)\n",
        "print(\"column names Q3\")\n",
        "colnames(bici_Q3)\n",
        "print(\"column names Q4\")\n",
        "colnames(bici_Q4)"
      ],
      "metadata": {
        "id": "87LFvOfCvoBv",
        "colab": {
          "base_uri": "https://localhost:8080/",
          "height": 156
        },
        "outputId": "66903e59-2b09-40e6-8239-63b5608ecd54"
      },
      "execution_count": 6,
      "outputs": [
        {
          "output_type": "stream",
          "name": "stdout",
          "text": [
            "[1] \"column names Q1\"\n"
          ]
        },
        {
          "output_type": "display_data",
          "data": {
            "text/html": [
              "<style>\n",
              ".list-inline {list-style: none; margin:0; padding: 0}\n",
              ".list-inline>li {display: inline-block}\n",
              ".list-inline>li:not(:last-child)::after {content: \"\\00b7\"; padding: 0 .5ex}\n",
              "</style>\n",
              "<ol class=list-inline><li>'ride_id'</li><li>'start_time'</li><li>'end_time'</li><li>'bike_id'</li><li>'trip_duration'</li><li>'from_station_id'</li><li>'from_station_name'</li><li>'to_station_id'</li><li>'to_station_name'</li><li>'user_type'</li><li>'gender'</li><li>'birthyear'</li></ol>\n"
            ],
            "text/markdown": "1. 'ride_id'\n2. 'start_time'\n3. 'end_time'\n4. 'bike_id'\n5. 'trip_duration'\n6. 'from_station_id'\n7. 'from_station_name'\n8. 'to_station_id'\n9. 'to_station_name'\n10. 'user_type'\n11. 'gender'\n12. 'birthyear'\n\n\n",
            "text/latex": "\\begin{enumerate*}\n\\item 'ride\\_id'\n\\item 'start\\_time'\n\\item 'end\\_time'\n\\item 'bike\\_id'\n\\item 'trip\\_duration'\n\\item 'from\\_station\\_id'\n\\item 'from\\_station\\_name'\n\\item 'to\\_station\\_id'\n\\item 'to\\_station\\_name'\n\\item 'user\\_type'\n\\item 'gender'\n\\item 'birthyear'\n\\end{enumerate*}\n",
            "text/plain": [
              " [1] \"ride_id\"           \"start_time\"        \"end_time\"         \n",
              " [4] \"bike_id\"           \"trip_duration\"     \"from_station_id\"  \n",
              " [7] \"from_station_name\" \"to_station_id\"     \"to_station_name\"  \n",
              "[10] \"user_type\"         \"gender\"            \"birthyear\"        "
            ]
          },
          "metadata": {}
        },
        {
          "output_type": "stream",
          "name": "stdout",
          "text": [
            "[1] \"column names Q2\"\n"
          ]
        },
        {
          "output_type": "display_data",
          "data": {
            "text/html": [
              "<style>\n",
              ".list-inline {list-style: none; margin:0; padding: 0}\n",
              ".list-inline>li {display: inline-block}\n",
              ".list-inline>li:not(:last-child)::after {content: \"\\00b7\"; padding: 0 .5ex}\n",
              "</style>\n",
              "<ol class=list-inline><li>'ride_id'</li><li>'start_time'</li><li>'end_time'</li><li>'bike_id'</li><li>'trip_duration'</li><li>'from_station_id'</li><li>'from_station_name'</li><li>'to_station_id'</li><li>'to_station_name'</li><li>'user_type'</li><li>'gender'</li><li>'birthyear'</li></ol>\n"
            ],
            "text/markdown": "1. 'ride_id'\n2. 'start_time'\n3. 'end_time'\n4. 'bike_id'\n5. 'trip_duration'\n6. 'from_station_id'\n7. 'from_station_name'\n8. 'to_station_id'\n9. 'to_station_name'\n10. 'user_type'\n11. 'gender'\n12. 'birthyear'\n\n\n",
            "text/latex": "\\begin{enumerate*}\n\\item 'ride\\_id'\n\\item 'start\\_time'\n\\item 'end\\_time'\n\\item 'bike\\_id'\n\\item 'trip\\_duration'\n\\item 'from\\_station\\_id'\n\\item 'from\\_station\\_name'\n\\item 'to\\_station\\_id'\n\\item 'to\\_station\\_name'\n\\item 'user\\_type'\n\\item 'gender'\n\\item 'birthyear'\n\\end{enumerate*}\n",
            "text/plain": [
              " [1] \"ride_id\"           \"start_time\"        \"end_time\"         \n",
              " [4] \"bike_id\"           \"trip_duration\"     \"from_station_id\"  \n",
              " [7] \"from_station_name\" \"to_station_id\"     \"to_station_name\"  \n",
              "[10] \"user_type\"         \"gender\"            \"birthyear\"        "
            ]
          },
          "metadata": {}
        },
        {
          "output_type": "stream",
          "name": "stdout",
          "text": [
            "[1] \"column names Q3\"\n"
          ]
        },
        {
          "output_type": "display_data",
          "data": {
            "text/html": [
              "<style>\n",
              ".list-inline {list-style: none; margin:0; padding: 0}\n",
              ".list-inline>li {display: inline-block}\n",
              ".list-inline>li:not(:last-child)::after {content: \"\\00b7\"; padding: 0 .5ex}\n",
              "</style>\n",
              "<ol class=list-inline><li>'ride_id'</li><li>'start_time'</li><li>'end_time'</li><li>'bike_id'</li><li>'trip_duration'</li><li>'from_station_id'</li><li>'from_station_name'</li><li>'to_station_id'</li><li>'to_station_name'</li><li>'user_type'</li><li>'gender'</li><li>'birthyear'</li></ol>\n"
            ],
            "text/markdown": "1. 'ride_id'\n2. 'start_time'\n3. 'end_time'\n4. 'bike_id'\n5. 'trip_duration'\n6. 'from_station_id'\n7. 'from_station_name'\n8. 'to_station_id'\n9. 'to_station_name'\n10. 'user_type'\n11. 'gender'\n12. 'birthyear'\n\n\n",
            "text/latex": "\\begin{enumerate*}\n\\item 'ride\\_id'\n\\item 'start\\_time'\n\\item 'end\\_time'\n\\item 'bike\\_id'\n\\item 'trip\\_duration'\n\\item 'from\\_station\\_id'\n\\item 'from\\_station\\_name'\n\\item 'to\\_station\\_id'\n\\item 'to\\_station\\_name'\n\\item 'user\\_type'\n\\item 'gender'\n\\item 'birthyear'\n\\end{enumerate*}\n",
            "text/plain": [
              " [1] \"ride_id\"           \"start_time\"        \"end_time\"         \n",
              " [4] \"bike_id\"           \"trip_duration\"     \"from_station_id\"  \n",
              " [7] \"from_station_name\" \"to_station_id\"     \"to_station_name\"  \n",
              "[10] \"user_type\"         \"gender\"            \"birthyear\"        "
            ]
          },
          "metadata": {}
        },
        {
          "output_type": "stream",
          "name": "stdout",
          "text": [
            "[1] \"column names Q4\"\n"
          ]
        },
        {
          "output_type": "display_data",
          "data": {
            "text/html": [
              "<style>\n",
              ".list-inline {list-style: none; margin:0; padding: 0}\n",
              ".list-inline>li {display: inline-block}\n",
              ".list-inline>li:not(:last-child)::after {content: \"\\00b7\"; padding: 0 .5ex}\n",
              "</style>\n",
              "<ol class=list-inline><li>'ride_id'</li><li>'start_time'</li><li>'end_time'</li><li>'bike_id'</li><li>'trip_duration'</li><li>'from_station_id'</li><li>'from_station_name'</li><li>'to_station_id'</li><li>'to_station_name'</li><li>'user_type'</li><li>'gender'</li><li>'birthyear'</li></ol>\n"
            ],
            "text/markdown": "1. 'ride_id'\n2. 'start_time'\n3. 'end_time'\n4. 'bike_id'\n5. 'trip_duration'\n6. 'from_station_id'\n7. 'from_station_name'\n8. 'to_station_id'\n9. 'to_station_name'\n10. 'user_type'\n11. 'gender'\n12. 'birthyear'\n\n\n",
            "text/latex": "\\begin{enumerate*}\n\\item 'ride\\_id'\n\\item 'start\\_time'\n\\item 'end\\_time'\n\\item 'bike\\_id'\n\\item 'trip\\_duration'\n\\item 'from\\_station\\_id'\n\\item 'from\\_station\\_name'\n\\item 'to\\_station\\_id'\n\\item 'to\\_station\\_name'\n\\item 'user\\_type'\n\\item 'gender'\n\\item 'birthyear'\n\\end{enumerate*}\n",
            "text/plain": [
              " [1] \"ride_id\"           \"start_time\"        \"end_time\"         \n",
              " [4] \"bike_id\"           \"trip_duration\"     \"from_station_id\"  \n",
              " [7] \"from_station_name\" \"to_station_id\"     \"to_station_name\"  \n",
              "[10] \"user_type\"         \"gender\"            \"birthyear\"        "
            ]
          },
          "metadata": {}
        }
      ]
    },
    {
      "cell_type": "markdown",
      "source": [
        "stack individual quarters into one big data frame"
      ],
      "metadata": {
        "id": "WgByrPQ4w7aD"
      }
    },
    {
      "cell_type": "code",
      "source": [
        "bike_trips <- bind_rows(bici_Q1,bici_Q2,bici_Q3,bici_Q4)"
      ],
      "metadata": {
        "id": "CxlWAcONv8tQ"
      },
      "execution_count": 7,
      "outputs": []
    },
    {
      "cell_type": "markdown",
      "source": [
        "## **STEP 4:** visualize new data frame"
      ],
      "metadata": {
        "id": "Z2iEDrSswCjR"
      }
    },
    {
      "cell_type": "code",
      "source": [
        "colnames(bike_trips) #show the column names\n",
        "nrow(bike_trips) #show the number of rows\n",
        "dim(bike_trips) #show the number of rows and columns\n",
        "summary(bike_trips) #show statistical summary of data (only numerics)\n",
        "str(bike_trips)"
      ],
      "metadata": {
        "id": "pwRi9SgTwAhO",
        "colab": {
          "base_uri": "https://localhost:8080/",
          "height": 711
        },
        "outputId": "5fc7bd9a-6a6f-4677-f4c4-2f5bdccc41ca"
      },
      "execution_count": 8,
      "outputs": [
        {
          "output_type": "display_data",
          "data": {
            "text/html": [
              "<style>\n",
              ".list-inline {list-style: none; margin:0; padding: 0}\n",
              ".list-inline>li {display: inline-block}\n",
              ".list-inline>li:not(:last-child)::after {content: \"\\00b7\"; padding: 0 .5ex}\n",
              "</style>\n",
              "<ol class=list-inline><li>'ride_id'</li><li>'start_time'</li><li>'end_time'</li><li>'bike_id'</li><li>'trip_duration'</li><li>'from_station_id'</li><li>'from_station_name'</li><li>'to_station_id'</li><li>'to_station_name'</li><li>'user_type'</li><li>'gender'</li><li>'birthyear'</li></ol>\n"
            ],
            "text/markdown": "1. 'ride_id'\n2. 'start_time'\n3. 'end_time'\n4. 'bike_id'\n5. 'trip_duration'\n6. 'from_station_id'\n7. 'from_station_name'\n8. 'to_station_id'\n9. 'to_station_name'\n10. 'user_type'\n11. 'gender'\n12. 'birthyear'\n\n\n",
            "text/latex": "\\begin{enumerate*}\n\\item 'ride\\_id'\n\\item 'start\\_time'\n\\item 'end\\_time'\n\\item 'bike\\_id'\n\\item 'trip\\_duration'\n\\item 'from\\_station\\_id'\n\\item 'from\\_station\\_name'\n\\item 'to\\_station\\_id'\n\\item 'to\\_station\\_name'\n\\item 'user\\_type'\n\\item 'gender'\n\\item 'birthyear'\n\\end{enumerate*}\n",
            "text/plain": [
              " [1] \"ride_id\"           \"start_time\"        \"end_time\"         \n",
              " [4] \"bike_id\"           \"trip_duration\"     \"from_station_id\"  \n",
              " [7] \"from_station_name\" \"to_station_id\"     \"to_station_name\"  \n",
              "[10] \"user_type\"         \"gender\"            \"birthyear\"        "
            ]
          },
          "metadata": {}
        },
        {
          "output_type": "display_data",
          "data": {
            "text/html": [
              "1423624"
            ],
            "text/markdown": "1423624",
            "text/latex": "1423624",
            "text/plain": [
              "[1] 1423624"
            ]
          },
          "metadata": {}
        },
        {
          "output_type": "display_data",
          "data": {
            "text/html": [
              "<style>\n",
              ".list-inline {list-style: none; margin:0; padding: 0}\n",
              ".list-inline>li {display: inline-block}\n",
              ".list-inline>li:not(:last-child)::after {content: \"\\00b7\"; padding: 0 .5ex}\n",
              "</style>\n",
              "<ol class=list-inline><li>1423624</li><li>12</li></ol>\n"
            ],
            "text/markdown": "1. 1423624\n2. 12\n\n\n",
            "text/latex": "\\begin{enumerate*}\n\\item 1423624\n\\item 12\n\\end{enumerate*}\n",
            "text/plain": [
              "[1] 1423624      12"
            ]
          },
          "metadata": {}
        },
        {
          "output_type": "display_data",
          "data": {
            "text/plain": [
              "    ride_id          start_time          end_time            bike_id    \n",
              " Min.   :21742443   Length:1423624     Length:1423624     Min.   :   1  \n",
              " 1st Qu.:22167772   Class :character   Class :character   1st Qu.:1739  \n",
              " Median :22586728   Mode  :character   Mode  :character   Median :3469  \n",
              " Mean   :22799394                                         Mean   :3401  \n",
              " 3rd Qu.:23004866                                         3rd Qu.:5091  \n",
              " Max.   :25343058                                         Max.   :6471  \n",
              "                                                          NA's   :1     \n",
              " trip_duration      from_station_id from_station_name  to_station_id  \n",
              " Length:1423624     Min.   :  1.0   Length:1423624     Min.   :  1.0  \n",
              " Class :character   1st Qu.: 77.0   Class :character   1st Qu.: 77.0  \n",
              " Mode  :character   Median :173.0   Mode  :character   Median :174.0  \n",
              "                    Mean   :200.4                      Mean   :201.2  \n",
              "                    3rd Qu.:289.0                      3rd Qu.:289.0  \n",
              "                    Max.   :673.0                      Max.   :673.0  \n",
              "                    NA's   :1                          NA's   :1      \n",
              " to_station_name     user_type            gender            birthyear     \n",
              " Length:1423624     Length:1423624     Length:1423624     Min.   :1759    \n",
              " Class :character   Class :character   Class :character   1st Qu.:1978    \n",
              " Mode  :character   Mode  :character   Mode  :character   Median :1987    \n",
              "                                                          Mean   :1983    \n",
              "                                                          3rd Qu.:1991    \n",
              "                                                          Max.   :2014    \n",
              "                                                          NA's   :183721  "
            ]
          },
          "metadata": {}
        },
        {
          "output_type": "stream",
          "name": "stdout",
          "text": [
            "'data.frame':\t1423624 obs. of  12 variables:\n",
            " $ ride_id          : int  21742443 21742444 21742445 21742446 21742447 21742448 21742449 21742450 21742451 21742452 ...\n",
            " $ start_time       : chr  \"2019-01-01 00:04:37\" \"2019-01-01 00:08:13\" \"2019-01-01 00:13:23\" \"2019-01-01 00:13:45\" ...\n",
            " $ end_time         : chr  \"2019-01-01 00:11:07\" \"2019-01-01 00:15:34\" \"2019-01-01 00:27:12\" \"2019-01-01 00:43:28\" ...\n",
            " $ bike_id          : int  2167 4386 1524 252 1170 2437 2708 2796 6205 3939 ...\n",
            " $ trip_duration    : chr  \"390.0\" \"441.0\" \"829.0\" \"1,783.0\" ...\n",
            " $ from_station_id  : int  199 44 15 123 173 98 98 211 150 268 ...\n",
            " $ from_station_name: chr  \"Wabash Ave & Grand Ave\" \"State St & Randolph St\" \"Racine Ave & 18th St\" \"California Ave & Milwaukee Ave\" ...\n",
            " $ to_station_id    : int  84 624 644 176 35 49 49 142 148 141 ...\n",
            " $ to_station_name  : chr  \"Milwaukee Ave & Grand Ave\" \"Dearborn St & Van Buren St (*)\" \"Western Ave & Fillmore St (*)\" \"Clark St & Elm St\" ...\n",
            " $ user_type        : chr  \"Subscriber\" \"Subscriber\" \"Subscriber\" \"Subscriber\" ...\n",
            " $ gender           : chr  \"Male\" \"Female\" \"Female\" \"Male\" ...\n",
            " $ birthyear        : int  1989 1990 1994 1993 1994 1983 1984 1990 1995 1996 ...\n"
          ]
        }
      ]
    },
    {
      "cell_type": "markdown",
      "source": [
        "Adding columns day, month, year"
      ],
      "metadata": {
        "id": "9lc4pXvAxTKi"
      }
    },
    {
      "cell_type": "code",
      "source": [
        "bike_trips$date <- as.Date(bike_trips$start_time)\n",
        "bike_trips$month <- format(as.Date(bike_trips$date), \"%m\")\n",
        "bike_trips$day <- format(as.Date(bike_trips$date), \"%d\")\n",
        "bike_trips$year <- format(as.Date(bike_trips$date), \"%Y\")\n",
        "bike_trips$day_of_week <- format(as.Date(bike_trips$date), \"%A\")"
      ],
      "metadata": {
        "id": "aSK3QeBCwj9b"
      },
      "execution_count": 9,
      "outputs": []
    },
    {
      "cell_type": "markdown",
      "source": [
        "visulize the new columns"
      ],
      "metadata": {
        "id": "I_opDdADxYI3"
      }
    },
    {
      "cell_type": "code",
      "source": [
        "colnames(bike_trips)"
      ],
      "metadata": {
        "id": "M0ePFGOZwpRM",
        "colab": {
          "base_uri": "https://localhost:8080/",
          "height": 52
        },
        "outputId": "b836cd5b-a88d-49b9-873d-4534e948e4e9"
      },
      "execution_count": 10,
      "outputs": [
        {
          "output_type": "display_data",
          "data": {
            "text/html": [
              "<style>\n",
              ".list-inline {list-style: none; margin:0; padding: 0}\n",
              ".list-inline>li {display: inline-block}\n",
              ".list-inline>li:not(:last-child)::after {content: \"\\00b7\"; padding: 0 .5ex}\n",
              "</style>\n",
              "<ol class=list-inline><li>'ride_id'</li><li>'start_time'</li><li>'end_time'</li><li>'bike_id'</li><li>'trip_duration'</li><li>'from_station_id'</li><li>'from_station_name'</li><li>'to_station_id'</li><li>'to_station_name'</li><li>'user_type'</li><li>'gender'</li><li>'birthyear'</li><li>'date'</li><li>'month'</li><li>'day'</li><li>'year'</li><li>'day_of_week'</li></ol>\n"
            ],
            "text/markdown": "1. 'ride_id'\n2. 'start_time'\n3. 'end_time'\n4. 'bike_id'\n5. 'trip_duration'\n6. 'from_station_id'\n7. 'from_station_name'\n8. 'to_station_id'\n9. 'to_station_name'\n10. 'user_type'\n11. 'gender'\n12. 'birthyear'\n13. 'date'\n14. 'month'\n15. 'day'\n16. 'year'\n17. 'day_of_week'\n\n\n",
            "text/latex": "\\begin{enumerate*}\n\\item 'ride\\_id'\n\\item 'start\\_time'\n\\item 'end\\_time'\n\\item 'bike\\_id'\n\\item 'trip\\_duration'\n\\item 'from\\_station\\_id'\n\\item 'from\\_station\\_name'\n\\item 'to\\_station\\_id'\n\\item 'to\\_station\\_name'\n\\item 'user\\_type'\n\\item 'gender'\n\\item 'birthyear'\n\\item 'date'\n\\item 'month'\n\\item 'day'\n\\item 'year'\n\\item 'day\\_of\\_week'\n\\end{enumerate*}\n",
            "text/plain": [
              " [1] \"ride_id\"           \"start_time\"        \"end_time\"         \n",
              " [4] \"bike_id\"           \"trip_duration\"     \"from_station_id\"  \n",
              " [7] \"from_station_name\" \"to_station_id\"     \"to_station_name\"  \n",
              "[10] \"user_type\"         \"gender\"            \"birthyear\"        \n",
              "[13] \"date\"              \"month\"             \"day\"              \n",
              "[16] \"year\"              \"day_of_week\"      "
            ]
          },
          "metadata": {}
        }
      ]
    },
    {
      "cell_type": "markdown",
      "source": [
        "Getting the time of each ride"
      ],
      "metadata": {
        "id": "BYKHL1dpxnU1"
      }
    },
    {
      "cell_type": "code",
      "source": [
        "bike_trips$start_time <- ymd_hms(bike_trips$start_time)\n",
        "bike_trips$end_time <- ymd_hms(bike_trips$end_time)"
      ],
      "metadata": {
        "id": "_HaP6LyXyo8H",
        "colab": {
          "base_uri": "https://localhost:8080/",
          "height": 0
        },
        "outputId": "1c1ebd7d-e2d5-438f-cf80-9de2b0129698"
      },
      "execution_count": 11,
      "outputs": [
        {
          "output_type": "stream",
          "name": "stderr",
          "text": [
            "Warning message:\n",
            "“ 1 failed to parse.”\n"
          ]
        }
      ]
    },
    {
      "cell_type": "code",
      "source": [
        "bike_trips$ride_length <- difftime(bike_trips$end_time, bike_trips$start_time)"
      ],
      "metadata": {
        "id": "YYvn7esqwt_u"
      },
      "execution_count": 12,
      "outputs": []
    },
    {
      "cell_type": "markdown",
      "source": [
        "converting ride_length to numeric"
      ],
      "metadata": {
        "id": "FNmghu_czXQq"
      }
    },
    {
      "cell_type": "code",
      "source": [
        "bike_trips$ride_length <- as.numeric(as.character(bike_trips$ride_length))\n",
        "str(bike_trips)"
      ],
      "metadata": {
        "id": "8pdxiJYazWnb",
        "colab": {
          "base_uri": "https://localhost:8080/",
          "height": 0
        },
        "outputId": "726aa32a-0621-49cd-fb85-afe7e654a284"
      },
      "execution_count": 13,
      "outputs": [
        {
          "output_type": "stream",
          "name": "stdout",
          "text": [
            "'data.frame':\t1423624 obs. of  18 variables:\n",
            " $ ride_id          : int  21742443 21742444 21742445 21742446 21742447 21742448 21742449 21742450 21742451 21742452 ...\n",
            " $ start_time       : POSIXct, format: \"2019-01-01 00:04:37\" \"2019-01-01 00:08:13\" ...\n",
            " $ end_time         : POSIXct, format: \"2019-01-01 00:11:07\" \"2019-01-01 00:15:34\" ...\n",
            " $ bike_id          : int  2167 4386 1524 252 1170 2437 2708 2796 6205 3939 ...\n",
            " $ trip_duration    : chr  \"390.0\" \"441.0\" \"829.0\" \"1,783.0\" ...\n",
            " $ from_station_id  : int  199 44 15 123 173 98 98 211 150 268 ...\n",
            " $ from_station_name: chr  \"Wabash Ave & Grand Ave\" \"State St & Randolph St\" \"Racine Ave & 18th St\" \"California Ave & Milwaukee Ave\" ...\n",
            " $ to_station_id    : int  84 624 644 176 35 49 49 142 148 141 ...\n",
            " $ to_station_name  : chr  \"Milwaukee Ave & Grand Ave\" \"Dearborn St & Van Buren St (*)\" \"Western Ave & Fillmore St (*)\" \"Clark St & Elm St\" ...\n",
            " $ user_type        : chr  \"Subscriber\" \"Subscriber\" \"Subscriber\" \"Subscriber\" ...\n",
            " $ gender           : chr  \"Male\" \"Female\" \"Female\" \"Male\" ...\n",
            " $ birthyear        : int  1989 1990 1994 1993 1994 1983 1984 1990 1995 1996 ...\n",
            " $ date             : Date, format: \"2019-01-01\" \"2019-01-01\" ...\n",
            " $ month            : chr  \"01\" \"01\" \"01\" \"01\" ...\n",
            " $ day              : chr  \"01\" \"01\" \"01\" \"01\" ...\n",
            " $ year             : chr  \"2019\" \"2019\" \"2019\" \"2019\" ...\n",
            " $ day_of_week      : chr  \"Tuesday\" \"Tuesday\" \"Tuesday\" \"Tuesday\" ...\n",
            " $ ride_length      : num  6.5 7.35 13.82 29.72 6.07 ...\n"
          ]
        }
      ]
    },
    {
      "cell_type": "markdown",
      "source": [
        "removing \"Bad Data\", the negatives and when the bike was only taken out for quality"
      ],
      "metadata": {
        "id": "twhPjjA6zgjs"
      }
    },
    {
      "cell_type": "code",
      "source": [
        "bike_trips <- bike_trips[!(bike_trips$from_station_name == \"HQ QR\" |\n",
        "                               bike_trips$ride_length < 0),]"
      ],
      "metadata": {
        "id": "JfeAela1zh67"
      },
      "execution_count": 14,
      "outputs": []
    },
    {
      "cell_type": "markdown",
      "source": [
        "transforming day of week from spanish to english"
      ],
      "metadata": {
        "id": "6tV3OIvTzqSa"
      }
    },
    {
      "cell_type": "code",
      "source": [
        "bike_trips <- bike_trips %>%\n",
        "  mutate(day_of_week = recode(day_of_week,\n",
        "                              \"domingo\" = \"Sunday\",\n",
        "                              \"lunes\" = \"Monday\",\n",
        "                              \"martes\" = \"Tuesday\",\n",
        "                              \"miércoles\" = \"Wednesday\",\n",
        "                              \"jueves\" = \"Thursday\",\n",
        "                              \"viernes\" = \"Friday\",\n",
        "                              \"sábado\" = \"Saturday\"))"
      ],
      "metadata": {
        "id": "lG99G42Kzp4y"
      },
      "execution_count": 15,
      "outputs": []
    },
    {
      "cell_type": "markdown",
      "source": [
        "## **STEP 5:** Analysis"
      ],
      "metadata": {
        "id": "abBjUPYhz0GG"
      }
    },
    {
      "cell_type": "markdown",
      "source": [
        "analysis on ride_length"
      ],
      "metadata": {
        "id": "As0eQm0M0ARl"
      }
    },
    {
      "cell_type": "code",
      "source": [
        "summary(bike_trips$ride_length)"
      ],
      "metadata": {
        "id": "oik71jrzzzvx",
        "colab": {
          "base_uri": "https://localhost:8080/",
          "height": 52
        },
        "outputId": "24ba36e1-cbf2-40c8-9dc1-55b845dd21c6"
      },
      "execution_count": 16,
      "outputs": [
        {
          "output_type": "display_data",
          "data": {
            "text/plain": [
              "     Min.   1st Qu.    Median      Mean   3rd Qu.      Max.      NA's \n",
              "     1.02      6.50     11.10     21.22     20.07 177200.37         1 "
            ]
          },
          "metadata": {}
        }
      ]
    },
    {
      "cell_type": "markdown",
      "source": [
        "comparison Subscriber vs. Customer by ride_length"
      ],
      "metadata": {
        "id": "Z97eIg320KOt"
      }
    },
    {
      "cell_type": "code",
      "source": [
        "bike_trips <- bike_trips %>%\n",
        "  mutate(user_type = recode(user_type,\n",
        "                            \"Custumer\" = \"Customer\",\n",
        "                            \"Subscri\" = \"Subscriber\"))"
      ],
      "metadata": {
        "id": "nRmZQnaUT-SM"
      },
      "execution_count": 26,
      "outputs": []
    },
    {
      "cell_type": "code",
      "source": [
        "print(\"====> AVERAGE <====\")\n",
        "aggregate(bike_trips$ride_length ~ bike_trips$user_type, FUN = mean)\n",
        "print(\"====> MEDIAN <====\")\n",
        "aggregate(bike_trips$ride_length ~ bike_trips$user_type, FUN = median)\n",
        "print(\"====> MAX <====\")\n",
        "aggregate(bike_trips$ride_length ~ bike_trips$user_type, FUN = max)\n",
        "print(\"====> MIN <====\")\n",
        "aggregate(bike_trips$ride_length ~ bike_trips$user_type, FUN = min)\n"
      ],
      "metadata": {
        "id": "F8okKusH0Mz1",
        "colab": {
          "base_uri": "https://localhost:8080/",
          "height": 662
        },
        "outputId": "a0f3ec7a-2ac1-465a-b004-776006154ca0"
      },
      "execution_count": 27,
      "outputs": [
        {
          "output_type": "stream",
          "name": "stdout",
          "text": [
            "[1] \"====> AVERAGE <====\"\n"
          ]
        },
        {
          "output_type": "display_data",
          "data": {
            "text/html": [
              "<table class=\"dataframe\">\n",
              "<caption>A data.frame: 2 × 2</caption>\n",
              "<thead>\n",
              "\t<tr><th scope=col>bike_trips$user_type</th><th scope=col>bike_trips$ride_length</th></tr>\n",
              "\t<tr><th scope=col>&lt;chr&gt;</th><th scope=col>&lt;dbl&gt;</th></tr>\n",
              "</thead>\n",
              "<tbody>\n",
              "\t<tr><td>Customer  </td><td>52.87953</td></tr>\n",
              "\t<tr><td>Subscriber</td><td>13.90415</td></tr>\n",
              "</tbody>\n",
              "</table>\n"
            ],
            "text/markdown": "\nA data.frame: 2 × 2\n\n| bike_trips$user_type &lt;chr&gt; | bike_trips$ride_length &lt;dbl&gt; |\n|---|---|\n| Customer   | 52.87953 |\n| Subscriber | 13.90415 |\n\n",
            "text/latex": "A data.frame: 2 × 2\n\\begin{tabular}{ll}\n bike\\_trips\\$user\\_type & bike\\_trips\\$ride\\_length\\\\\n <chr> & <dbl>\\\\\n\\hline\n\t Customer   & 52.87953\\\\\n\t Subscriber & 13.90415\\\\\n\\end{tabular}\n",
            "text/plain": [
              "  bike_trips$user_type bike_trips$ride_length\n",
              "1 Customer             52.87953              \n",
              "2 Subscriber           13.90415              "
            ]
          },
          "metadata": {}
        },
        {
          "output_type": "stream",
          "name": "stdout",
          "text": [
            "[1] \"====> MEDIAN <====\"\n"
          ]
        },
        {
          "output_type": "display_data",
          "data": {
            "text/html": [
              "<table class=\"dataframe\">\n",
              "<caption>A data.frame: 2 × 2</caption>\n",
              "<thead>\n",
              "\t<tr><th scope=col>bike_trips$user_type</th><th scope=col>bike_trips$ride_length</th></tr>\n",
              "\t<tr><th scope=col>&lt;chr&gt;</th><th scope=col>&lt;dbl&gt;</th></tr>\n",
              "</thead>\n",
              "<tbody>\n",
              "\t<tr><td>Customer  </td><td>26.833333</td></tr>\n",
              "\t<tr><td>Subscriber</td><td> 9.483333</td></tr>\n",
              "</tbody>\n",
              "</table>\n"
            ],
            "text/markdown": "\nA data.frame: 2 × 2\n\n| bike_trips$user_type &lt;chr&gt; | bike_trips$ride_length &lt;dbl&gt; |\n|---|---|\n| Customer   | 26.833333 |\n| Subscriber |  9.483333 |\n\n",
            "text/latex": "A data.frame: 2 × 2\n\\begin{tabular}{ll}\n bike\\_trips\\$user\\_type & bike\\_trips\\$ride\\_length\\\\\n <chr> & <dbl>\\\\\n\\hline\n\t Customer   & 26.833333\\\\\n\t Subscriber &  9.483333\\\\\n\\end{tabular}\n",
            "text/plain": [
              "  bike_trips$user_type bike_trips$ride_length\n",
              "1 Customer             26.833333             \n",
              "2 Subscriber            9.483333             "
            ]
          },
          "metadata": {}
        },
        {
          "output_type": "stream",
          "name": "stdout",
          "text": [
            "[1] \"====> MAX <====\"\n"
          ]
        },
        {
          "output_type": "display_data",
          "data": {
            "text/html": [
              "<table class=\"dataframe\">\n",
              "<caption>A data.frame: 2 × 2</caption>\n",
              "<thead>\n",
              "\t<tr><th scope=col>bike_trips$user_type</th><th scope=col>bike_trips$ride_length</th></tr>\n",
              "\t<tr><th scope=col>&lt;chr&gt;</th><th scope=col>&lt;dbl&gt;</th></tr>\n",
              "</thead>\n",
              "<tbody>\n",
              "\t<tr><td>Customer  </td><td>177200.4</td></tr>\n",
              "\t<tr><td>Subscriber</td><td>101607.1</td></tr>\n",
              "</tbody>\n",
              "</table>\n"
            ],
            "text/markdown": "\nA data.frame: 2 × 2\n\n| bike_trips$user_type &lt;chr&gt; | bike_trips$ride_length &lt;dbl&gt; |\n|---|---|\n| Customer   | 177200.4 |\n| Subscriber | 101607.1 |\n\n",
            "text/latex": "A data.frame: 2 × 2\n\\begin{tabular}{ll}\n bike\\_trips\\$user\\_type & bike\\_trips\\$ride\\_length\\\\\n <chr> & <dbl>\\\\\n\\hline\n\t Customer   & 177200.4\\\\\n\t Subscriber & 101607.1\\\\\n\\end{tabular}\n",
            "text/plain": [
              "  bike_trips$user_type bike_trips$ride_length\n",
              "1 Customer             177200.4              \n",
              "2 Subscriber           101607.1              "
            ]
          },
          "metadata": {}
        },
        {
          "output_type": "stream",
          "name": "stdout",
          "text": [
            "[1] \"====> MIN <====\"\n"
          ]
        },
        {
          "output_type": "display_data",
          "data": {
            "text/html": [
              "<table class=\"dataframe\">\n",
              "<caption>A data.frame: 2 × 2</caption>\n",
              "<thead>\n",
              "\t<tr><th scope=col>bike_trips$user_type</th><th scope=col>bike_trips$ride_length</th></tr>\n",
              "\t<tr><th scope=col>&lt;chr&gt;</th><th scope=col>&lt;dbl&gt;</th></tr>\n",
              "</thead>\n",
              "<tbody>\n",
              "\t<tr><td>Customer  </td><td>1.016667</td></tr>\n",
              "\t<tr><td>Subscriber</td><td>1.016667</td></tr>\n",
              "</tbody>\n",
              "</table>\n"
            ],
            "text/markdown": "\nA data.frame: 2 × 2\n\n| bike_trips$user_type &lt;chr&gt; | bike_trips$ride_length &lt;dbl&gt; |\n|---|---|\n| Customer   | 1.016667 |\n| Subscriber | 1.016667 |\n\n",
            "text/latex": "A data.frame: 2 × 2\n\\begin{tabular}{ll}\n bike\\_trips\\$user\\_type & bike\\_trips\\$ride\\_length\\\\\n <chr> & <dbl>\\\\\n\\hline\n\t Customer   & 1.016667\\\\\n\t Subscriber & 1.016667\\\\\n\\end{tabular}\n",
            "text/plain": [
              "  bike_trips$user_type bike_trips$ride_length\n",
              "1 Customer             1.016667              \n",
              "2 Subscriber           1.016667              "
            ]
          },
          "metadata": {}
        }
      ]
    },
    {
      "cell_type": "markdown",
      "source": [
        "average ride_length by each day for Subscriber vs. Customer"
      ],
      "metadata": {
        "id": "yV3d0aC11UXA"
      }
    },
    {
      "cell_type": "code",
      "source": [
        "aggregate(ride_length ~ user_type + day_of_week, data = bike_trips,\n",
        "          FUN = mean)"
      ],
      "metadata": {
        "id": "n8vs9TZu1SJQ",
        "colab": {
          "base_uri": "https://localhost:8080/",
          "height": 537
        },
        "outputId": "f4cae8ba-2e12-4560-abb3-980688611a10"
      },
      "execution_count": 28,
      "outputs": [
        {
          "output_type": "display_data",
          "data": {
            "text/html": [
              "<table class=\"dataframe\">\n",
              "<caption>A data.frame: 14 × 3</caption>\n",
              "<thead>\n",
              "\t<tr><th scope=col>user_type</th><th scope=col>day_of_week</th><th scope=col>ride_length</th></tr>\n",
              "\t<tr><th scope=col>&lt;chr&gt;</th><th scope=col>&lt;chr&gt;</th><th scope=col>&lt;dbl&gt;</th></tr>\n",
              "</thead>\n",
              "<tbody>\n",
              "\t<tr><td>Customer  </td><td>Friday   </td><td>53.95632</td></tr>\n",
              "\t<tr><td>Subscriber</td><td>Friday   </td><td>13.63973</td></tr>\n",
              "\t<tr><td>Customer  </td><td>Monday   </td><td>44.01760</td></tr>\n",
              "\t<tr><td>Subscriber</td><td>Monday   </td><td>14.16801</td></tr>\n",
              "\t<tr><td>Customer  </td><td>Saturday </td><td>53.21835</td></tr>\n",
              "\t<tr><td>Subscriber</td><td>Saturday </td><td>15.53885</td></tr>\n",
              "\t<tr><td>Customer  </td><td>Sunday   </td><td>49.78904</td></tr>\n",
              "\t<tr><td>Subscriber</td><td>Sunday   </td><td>15.99974</td></tr>\n",
              "\t<tr><td>Customer  </td><td>Thursday </td><td>56.37257</td></tr>\n",
              "\t<tr><td>Subscriber</td><td>Thursday </td><td>13.38286</td></tr>\n",
              "\t<tr><td>Customer  </td><td>Tuesday  </td><td>56.08842</td></tr>\n",
              "\t<tr><td>Subscriber</td><td>Tuesday  </td><td>13.41938</td></tr>\n",
              "\t<tr><td>Customer  </td><td>Wednesday</td><td>59.01896</td></tr>\n",
              "\t<tr><td>Subscriber</td><td>Wednesday</td><td>13.22730</td></tr>\n",
              "</tbody>\n",
              "</table>\n"
            ],
            "text/markdown": "\nA data.frame: 14 × 3\n\n| user_type &lt;chr&gt; | day_of_week &lt;chr&gt; | ride_length &lt;dbl&gt; |\n|---|---|---|\n| Customer   | Friday    | 53.95632 |\n| Subscriber | Friday    | 13.63973 |\n| Customer   | Monday    | 44.01760 |\n| Subscriber | Monday    | 14.16801 |\n| Customer   | Saturday  | 53.21835 |\n| Subscriber | Saturday  | 15.53885 |\n| Customer   | Sunday    | 49.78904 |\n| Subscriber | Sunday    | 15.99974 |\n| Customer   | Thursday  | 56.37257 |\n| Subscriber | Thursday  | 13.38286 |\n| Customer   | Tuesday   | 56.08842 |\n| Subscriber | Tuesday   | 13.41938 |\n| Customer   | Wednesday | 59.01896 |\n| Subscriber | Wednesday | 13.22730 |\n\n",
            "text/latex": "A data.frame: 14 × 3\n\\begin{tabular}{lll}\n user\\_type & day\\_of\\_week & ride\\_length\\\\\n <chr> & <chr> & <dbl>\\\\\n\\hline\n\t Customer   & Friday    & 53.95632\\\\\n\t Subscriber & Friday    & 13.63973\\\\\n\t Customer   & Monday    & 44.01760\\\\\n\t Subscriber & Monday    & 14.16801\\\\\n\t Customer   & Saturday  & 53.21835\\\\\n\t Subscriber & Saturday  & 15.53885\\\\\n\t Customer   & Sunday    & 49.78904\\\\\n\t Subscriber & Sunday    & 15.99974\\\\\n\t Customer   & Thursday  & 56.37257\\\\\n\t Subscriber & Thursday  & 13.38286\\\\\n\t Customer   & Tuesday   & 56.08842\\\\\n\t Subscriber & Tuesday   & 13.41938\\\\\n\t Customer   & Wednesday & 59.01896\\\\\n\t Subscriber & Wednesday & 13.22730\\\\\n\\end{tabular}\n",
            "text/plain": [
              "   user_type  day_of_week ride_length\n",
              "1  Customer   Friday      53.95632   \n",
              "2  Subscriber Friday      13.63973   \n",
              "3  Customer   Monday      44.01760   \n",
              "4  Subscriber Monday      14.16801   \n",
              "5  Customer   Saturday    53.21835   \n",
              "6  Subscriber Saturday    15.53885   \n",
              "7  Customer   Sunday      49.78904   \n",
              "8  Subscriber Sunday      15.99974   \n",
              "9  Customer   Thursday    56.37257   \n",
              "10 Subscriber Thursday    13.38286   \n",
              "11 Customer   Tuesday     56.08842   \n",
              "12 Subscriber Tuesday     13.41938   \n",
              "13 Customer   Wednesday   59.01896   \n",
              "14 Subscriber Wednesday   13.22730   "
            ]
          },
          "metadata": {}
        }
      ]
    },
    {
      "cell_type": "markdown",
      "source": [
        "ordering the days of the week"
      ],
      "metadata": {
        "id": "C7fhAUAz15o3"
      }
    },
    {
      "cell_type": "code",
      "source": [
        "bike_trips$day_of_week <- ordered(bike_trips$day_of_week,\n",
        "                                    level=c(\"Sunday\",\"Monday\", \"Tuesday\",\n",
        "                                            \"Wednesday\", \"Thursday\", \"Friday\",\n",
        "                                            \"Saturday\"))"
      ],
      "metadata": {
        "id": "523jG0xN16Uo"
      },
      "execution_count": 29,
      "outputs": []
    },
    {
      "cell_type": "markdown",
      "source": [
        "lets drop out na and empty rows"
      ],
      "metadata": {
        "id": "lG8Sp_6l99X2"
      }
    },
    {
      "cell_type": "code",
      "source": [
        "bike_trips <- subset(bike_trips, user_type != \"\")"
      ],
      "metadata": {
        "id": "oXkgH8KA-O0s"
      },
      "execution_count": 30,
      "outputs": []
    },
    {
      "cell_type": "markdown",
      "source": [
        "now let's run again the code to see if it worked"
      ],
      "metadata": {
        "id": "InguMGm31_NP"
      }
    },
    {
      "cell_type": "code",
      "source": [
        "aggregate(ride_length ~ user_type + day_of_week, data = bike_trips,\n",
        "          FUN = mean)"
      ],
      "metadata": {
        "id": "k3EG0EZ22BfJ",
        "colab": {
          "base_uri": "https://localhost:8080/",
          "height": 537
        },
        "outputId": "fe92e76b-0768-492c-cf8b-4c0abf7fe79d"
      },
      "execution_count": 31,
      "outputs": [
        {
          "output_type": "display_data",
          "data": {
            "text/html": [
              "<table class=\"dataframe\">\n",
              "<caption>A data.frame: 14 × 3</caption>\n",
              "<thead>\n",
              "\t<tr><th scope=col>user_type</th><th scope=col>day_of_week</th><th scope=col>ride_length</th></tr>\n",
              "\t<tr><th scope=col>&lt;chr&gt;</th><th scope=col>&lt;ord&gt;</th><th scope=col>&lt;dbl&gt;</th></tr>\n",
              "</thead>\n",
              "<tbody>\n",
              "\t<tr><td>Customer  </td><td>Sunday   </td><td>49.78904</td></tr>\n",
              "\t<tr><td>Subscriber</td><td>Sunday   </td><td>15.99974</td></tr>\n",
              "\t<tr><td>Customer  </td><td>Monday   </td><td>44.01760</td></tr>\n",
              "\t<tr><td>Subscriber</td><td>Monday   </td><td>14.16801</td></tr>\n",
              "\t<tr><td>Customer  </td><td>Tuesday  </td><td>56.08842</td></tr>\n",
              "\t<tr><td>Subscriber</td><td>Tuesday  </td><td>13.41938</td></tr>\n",
              "\t<tr><td>Customer  </td><td>Wednesday</td><td>59.01896</td></tr>\n",
              "\t<tr><td>Subscriber</td><td>Wednesday</td><td>13.22730</td></tr>\n",
              "\t<tr><td>Customer  </td><td>Thursday </td><td>56.37257</td></tr>\n",
              "\t<tr><td>Subscriber</td><td>Thursday </td><td>13.38286</td></tr>\n",
              "\t<tr><td>Customer  </td><td>Friday   </td><td>53.95632</td></tr>\n",
              "\t<tr><td>Subscriber</td><td>Friday   </td><td>13.63973</td></tr>\n",
              "\t<tr><td>Customer  </td><td>Saturday </td><td>53.21835</td></tr>\n",
              "\t<tr><td>Subscriber</td><td>Saturday </td><td>15.53885</td></tr>\n",
              "</tbody>\n",
              "</table>\n"
            ],
            "text/markdown": "\nA data.frame: 14 × 3\n\n| user_type &lt;chr&gt; | day_of_week &lt;ord&gt; | ride_length &lt;dbl&gt; |\n|---|---|---|\n| Customer   | Sunday    | 49.78904 |\n| Subscriber | Sunday    | 15.99974 |\n| Customer   | Monday    | 44.01760 |\n| Subscriber | Monday    | 14.16801 |\n| Customer   | Tuesday   | 56.08842 |\n| Subscriber | Tuesday   | 13.41938 |\n| Customer   | Wednesday | 59.01896 |\n| Subscriber | Wednesday | 13.22730 |\n| Customer   | Thursday  | 56.37257 |\n| Subscriber | Thursday  | 13.38286 |\n| Customer   | Friday    | 53.95632 |\n| Subscriber | Friday    | 13.63973 |\n| Customer   | Saturday  | 53.21835 |\n| Subscriber | Saturday  | 15.53885 |\n\n",
            "text/latex": "A data.frame: 14 × 3\n\\begin{tabular}{lll}\n user\\_type & day\\_of\\_week & ride\\_length\\\\\n <chr> & <ord> & <dbl>\\\\\n\\hline\n\t Customer   & Sunday    & 49.78904\\\\\n\t Subscriber & Sunday    & 15.99974\\\\\n\t Customer   & Monday    & 44.01760\\\\\n\t Subscriber & Monday    & 14.16801\\\\\n\t Customer   & Tuesday   & 56.08842\\\\\n\t Subscriber & Tuesday   & 13.41938\\\\\n\t Customer   & Wednesday & 59.01896\\\\\n\t Subscriber & Wednesday & 13.22730\\\\\n\t Customer   & Thursday  & 56.37257\\\\\n\t Subscriber & Thursday  & 13.38286\\\\\n\t Customer   & Friday    & 53.95632\\\\\n\t Subscriber & Friday    & 13.63973\\\\\n\t Customer   & Saturday  & 53.21835\\\\\n\t Subscriber & Saturday  & 15.53885\\\\\n\\end{tabular}\n",
            "text/plain": [
              "   user_type  day_of_week ride_length\n",
              "1  Customer   Sunday      49.78904   \n",
              "2  Subscriber Sunday      15.99974   \n",
              "3  Customer   Monday      44.01760   \n",
              "4  Subscriber Monday      14.16801   \n",
              "5  Customer   Tuesday     56.08842   \n",
              "6  Subscriber Tuesday     13.41938   \n",
              "7  Customer   Wednesday   59.01896   \n",
              "8  Subscriber Wednesday   13.22730   \n",
              "9  Customer   Thursday    56.37257   \n",
              "10 Subscriber Thursday    13.38286   \n",
              "11 Customer   Friday      53.95632   \n",
              "12 Subscriber Friday      13.63973   \n",
              "13 Customer   Saturday    53.21835   \n",
              "14 Subscriber Saturday    15.53885   "
            ]
          },
          "metadata": {}
        }
      ]
    },
    {
      "cell_type": "markdown",
      "source": [
        "let's make a table about the numbers of ride and average duration between customer vs. subscriber"
      ],
      "metadata": {
        "id": "ZwQ_2qQe2Wft"
      }
    },
    {
      "cell_type": "code",
      "source": [
        "bike_trips %>%\n",
        "  mutate(weekday = wday(start_time, label=TRUE)) %>%\n",
        "  group_by(user_type, weekday) %>%\n",
        "  drop_na() %>%\n",
        "  summarise(rides_number = n(),\n",
        "            avg_duration = mean(ride_length)) %>%\n",
        "  arrange(user_type, weekday)"
      ],
      "metadata": {
        "id": "E4xPjQBd2SqP",
        "colab": {
          "base_uri": "https://localhost:8080/",
          "height": 572
        },
        "outputId": "3de215ac-a926-4158-d4c9-87eedddfb458"
      },
      "execution_count": 32,
      "outputs": [
        {
          "output_type": "stream",
          "name": "stderr",
          "text": [
            "\u001b[1m\u001b[22m`summarise()` has grouped output by 'user_type'. You can override using the\n",
            "`.groups` argument.\n"
          ]
        },
        {
          "output_type": "display_data",
          "data": {
            "text/html": [
              "<table class=\"dataframe\">\n",
              "<caption>A grouped_df: 14 × 4</caption>\n",
              "<thead>\n",
              "\t<tr><th scope=col>user_type</th><th scope=col>weekday</th><th scope=col>rides_number</th><th scope=col>avg_duration</th></tr>\n",
              "\t<tr><th scope=col>&lt;chr&gt;</th><th scope=col>&lt;ord&gt;</th><th scope=col>&lt;int&gt;</th><th scope=col>&lt;dbl&gt;</th></tr>\n",
              "</thead>\n",
              "<tbody>\n",
              "\t<tr><td>Customer  </td><td>Sun</td><td> 15285</td><td>41.05570</td></tr>\n",
              "\t<tr><td>Customer  </td><td>Mon</td><td> 11278</td><td>43.14198</td></tr>\n",
              "\t<tr><td>Customer  </td><td>Tue</td><td>  9953</td><td>49.31286</td></tr>\n",
              "\t<tr><td>Customer  </td><td>Wed</td><td>  9832</td><td>39.51078</td></tr>\n",
              "\t<tr><td>Customer  </td><td>Thu</td><td> 11732</td><td>40.32451</td></tr>\n",
              "\t<tr><td>Customer  </td><td>Fri</td><td> 12409</td><td>58.49054</td></tr>\n",
              "\t<tr><td>Customer  </td><td>Sat</td><td> 16018</td><td>41.76479</td></tr>\n",
              "\t<tr><td>Subscriber</td><td>Sun</td><td> 88905</td><td>15.97866</td></tr>\n",
              "\t<tr><td>Subscriber</td><td>Mon</td><td>176719</td><td>14.15854</td></tr>\n",
              "\t<tr><td>Subscriber</td><td>Tue</td><td>209104</td><td>13.40555</td></tr>\n",
              "\t<tr><td>Subscriber</td><td>Wed</td><td>201405</td><td>13.21605</td></tr>\n",
              "\t<tr><td>Subscriber</td><td>Thu</td><td>199116</td><td>13.35962</td></tr>\n",
              "\t<tr><td>Subscriber</td><td>Fri</td><td>182513</td><td>13.62715</td></tr>\n",
              "\t<tr><td>Subscriber</td><td>Sat</td><td> 95634</td><td>15.49874</td></tr>\n",
              "</tbody>\n",
              "</table>\n"
            ],
            "text/markdown": "\nA grouped_df: 14 × 4\n\n| user_type &lt;chr&gt; | weekday &lt;ord&gt; | rides_number &lt;int&gt; | avg_duration &lt;dbl&gt; |\n|---|---|---|---|\n| Customer   | Sun |  15285 | 41.05570 |\n| Customer   | Mon |  11278 | 43.14198 |\n| Customer   | Tue |   9953 | 49.31286 |\n| Customer   | Wed |   9832 | 39.51078 |\n| Customer   | Thu |  11732 | 40.32451 |\n| Customer   | Fri |  12409 | 58.49054 |\n| Customer   | Sat |  16018 | 41.76479 |\n| Subscriber | Sun |  88905 | 15.97866 |\n| Subscriber | Mon | 176719 | 14.15854 |\n| Subscriber | Tue | 209104 | 13.40555 |\n| Subscriber | Wed | 201405 | 13.21605 |\n| Subscriber | Thu | 199116 | 13.35962 |\n| Subscriber | Fri | 182513 | 13.62715 |\n| Subscriber | Sat |  95634 | 15.49874 |\n\n",
            "text/latex": "A grouped\\_df: 14 × 4\n\\begin{tabular}{llll}\n user\\_type & weekday & rides\\_number & avg\\_duration\\\\\n <chr> & <ord> & <int> & <dbl>\\\\\n\\hline\n\t Customer   & Sun &  15285 & 41.05570\\\\\n\t Customer   & Mon &  11278 & 43.14198\\\\\n\t Customer   & Tue &   9953 & 49.31286\\\\\n\t Customer   & Wed &   9832 & 39.51078\\\\\n\t Customer   & Thu &  11732 & 40.32451\\\\\n\t Customer   & Fri &  12409 & 58.49054\\\\\n\t Customer   & Sat &  16018 & 41.76479\\\\\n\t Subscriber & Sun &  88905 & 15.97866\\\\\n\t Subscriber & Mon & 176719 & 14.15854\\\\\n\t Subscriber & Tue & 209104 & 13.40555\\\\\n\t Subscriber & Wed & 201405 & 13.21605\\\\\n\t Subscriber & Thu & 199116 & 13.35962\\\\\n\t Subscriber & Fri & 182513 & 13.62715\\\\\n\t Subscriber & Sat &  95634 & 15.49874\\\\\n\\end{tabular}\n",
            "text/plain": [
              "   user_type  weekday rides_number avg_duration\n",
              "1  Customer   Sun      15285       41.05570    \n",
              "2  Customer   Mon      11278       43.14198    \n",
              "3  Customer   Tue       9953       49.31286    \n",
              "4  Customer   Wed       9832       39.51078    \n",
              "5  Customer   Thu      11732       40.32451    \n",
              "6  Customer   Fri      12409       58.49054    \n",
              "7  Customer   Sat      16018       41.76479    \n",
              "8  Subscriber Sun      88905       15.97866    \n",
              "9  Subscriber Mon     176719       14.15854    \n",
              "10 Subscriber Tue     209104       13.40555    \n",
              "11 Subscriber Wed     201405       13.21605    \n",
              "12 Subscriber Thu     199116       13.35962    \n",
              "13 Subscriber Fri     182513       13.62715    \n",
              "14 Subscriber Sat      95634       15.49874    "
            ]
          },
          "metadata": {}
        }
      ]
    },
    {
      "cell_type": "markdown",
      "source": [
        "visualization to see better about the numbers of ride and average duration between customer vs. subscriber"
      ],
      "metadata": {
        "id": "P7vNlrMv2n-p"
      }
    },
    {
      "cell_type": "code",
      "source": [
        "bike_trips %>%\n",
        "  mutate(weekday = wday(start_time, label=TRUE)) %>%\n",
        "  group_by(user_type, weekday) %>%\n",
        "  summarise(rides_number = n(),\n",
        "            avg_duration = mean(ride_length)) %>%\n",
        "  arrange(user_type, weekday) %>%\n",
        "  drop_na() %>%\n",
        "  ggplot(aes(x=weekday, y=rides_number, fill=user_type)) +\n",
        "  labs(title = \"Trips of days of the week: Customer vs. Subscriber\") +\n",
        "  geom_col(width = 0.5, position = position_dodge(width = 0.5)) +\n",
        "  scale_y_continuous(labels = function(x) format(x, scientific = FALSE))"
      ],
      "metadata": {
        "colab": {
          "base_uri": "https://localhost:8080/",
          "height": 472
        },
        "id": "zGZBu3ZK2r2g",
        "outputId": "032ab5e6-8ced-4211-d02c-9fad30ba9706"
      },
      "execution_count": 33,
      "outputs": [
        {
          "output_type": "stream",
          "name": "stderr",
          "text": [
            "\u001b[1m\u001b[22m`summarise()` has grouped output by 'user_type'. You can override using the\n",
            "`.groups` argument.\n"
          ]
        },
        {
          "output_type": "display_data",
          "data": {
            "text/plain": [
              "plot without title"
            ],
            "image/png": "[encoded data removed]"
          },
          "metadata": {
            "image/png": {
              "width": 420,
              "height": 420
            }
          }
        }
      ]
    },
    {
      "cell_type": "markdown",
      "source": [
        "now lets make about trip_duration"
      ],
      "metadata": {
        "id": "taTvvtrv7nL3"
      }
    },
    {
      "cell_type": "code",
      "source": [
        "bike_trips %>%\n",
        "  mutate(weekday = wday(start_time, label = TRUE)) %>%\n",
        "  group_by(user_type, weekday) %>%\n",
        "  summarise(rides_number = n(),\n",
        "            avg_duration = mean(ride_length)) %>%\n",
        "  drop_na() %>%\n",
        "  arrange(user_type, weekday) %>%\n",
        "  ggplot(aes(x=weekday, y=avg_duration, fill=user_type)) +\n",
        "  labs(title = \"Average duration of trips: Customer vs. Subscriber\") +\n",
        "  geom_col(width = 0.5, position = position_dodge(width = 0.5)) +\n",
        "  scale_y_continuous(labels = function(x) format(x, scientific = FALSE))"
      ],
      "metadata": {
        "colab": {
          "base_uri": "https://localhost:8080/",
          "height": 472
        },
        "id": "B3UOgZSq7hi_",
        "outputId": "48225511-f0e3-49af-e2c7-7aac880d383e"
      },
      "execution_count": 34,
      "outputs": [
        {
          "output_type": "stream",
          "name": "stderr",
          "text": [
            "\u001b[1m\u001b[22m`summarise()` has grouped output by 'user_type'. You can override using the\n",
            "`.groups` argument.\n"
          ]
        },
        {
          "output_type": "display_data",
          "data": {
            "text/plain": [
              "plot without title"
            ],
            "image/png": "[encoded data removed]"
          },
          "metadata": {
            "image/png": {
              "width": 420,
              "height": 420
            }
          }
        }
      ]
    },
    {
      "cell_type": "markdown",
      "source": [
        "now lets see in months"
      ],
      "metadata": {
        "id": "sYn7T6oq_b8k"
      }
    },
    {
      "cell_type": "markdown",
      "source": [
        "## Share\n",
        "Now that you have performed your analysis and gained some insights into your data, create visualizations to share your findings. Moreno has reminded you that they should be sophisticated and polished in order to effectively communicate to the executive team"
      ],
      "metadata": {
        "id": "L_y2zaiaTGIR"
      }
    },
    {
      "cell_type": "markdown",
      "source": [
        "![image.png](data:image/png;base64,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)"
      ],
      "metadata": {
        "id": "V0UwVeAfYQVO"
      }
    },
    {
      "cell_type": "markdown",
      "source": [
        "![image.png](data:image/png;base64,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)"
      ],
      "metadata": {
        "id": "uMhFDvRqYtG2"
      }
    },
    {
      "cell_type": "markdown",
      "source": [
        "## Insights\n",
        "How do annual members and casual riders use Cyclistic bikes differently?\n",
        "\n",
        "*   **Graphic 1** -> as we can see, Customers (non subscribers) has an average time of 50min up to 60min of rides. That's almost the triple of time that Subscribers has.\n",
        "\n",
        "  **Customers ->** 50 to 60 minutes ride\n",
        "  \n",
        "  **Subscribers ->** 10 to 15 minutes ride\n",
        "  \n",
        "*   **Graphic 2 ->** in the second graphic we see that Subscriber has a lot more number of trips then Customers.\n",
        "\n",
        "  **Customers ->** around 50.000 rides on weekends and during the week this numbers decay in half.\n",
        "  \n",
        "  **Subscribers ->** in other hand, the subscribers has less rides on weekends, but still is more then customers, they have around 80.000 rides on weekends and on week day around 175.000 rides\n",
        "\n"
      ],
      "metadata": {
        "id": "7eAmTY3ZYVrZ"
      }
    },
    {
      "cell_type": "markdown",
      "source": [
        "## Recomendations\n",
        "\n",
        "Even though Subscriber has a lot more rides then Customers, the Customers uses the bike more time then Subscriber during weekends.\n",
        "\n",
        "\n",
        "\n",
        "*   Make offer for Customers to become Subscribers during the weekends, since its when he have more Customers.\n",
        "*   Offer a discount to new Subscribers and offer them first year clear of membership fee\n",
        "\n"
      ],
      "metadata": {
        "id": "oImSfSnlWm-S"
      }
    }
  ]
}